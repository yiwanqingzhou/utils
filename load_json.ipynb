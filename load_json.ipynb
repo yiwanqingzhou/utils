{
 "cells": [
  {
   "cell_type": "code",
   "execution_count": 5,
   "metadata": {},
   "outputs": [],
   "source": [
    "import os\n",
    "import sys\n",
    "import json"
   ]
  },
  {
   "cell_type": "code",
   "execution_count": 6,
   "metadata": {},
   "outputs": [],
   "source": [
    "def load_json_file(json_file_path):\n",
    "    if not os.path.isfile(json_file_path):\n",
    "        raise Exception(\"File does not exist: {}\".format(json_file_path))\n",
    "\n",
    "    with open(json_file_path, \"r\") as json_file:\n",
    "        try:\n",
    "            config = json.load(json_file)\n",
    "        except:\n",
    "            raise Exception(\"Error occurs when opening \" + json_file_path)\n",
    "    return config"
   ]
  },
  {
   "cell_type": "code",
   "execution_count": 7,
   "metadata": {},
   "outputs": [],
   "source": [
    "file_path = \"/home/bot/dev/dr_vision_lib/data_config.json\"\n",
    "config = load_json_file(file_path)"
   ]
  },
  {
   "cell_type": "code",
   "execution_count": 12,
   "metadata": {},
   "outputs": [],
   "source": [
    "from geometry_msgs.msg import TransformStamped\n",
    "\n",
    "def parse_tf_config(tf_config):\n",
    "  tf = TransformStamped()\n",
    "  try:\n",
    "      tf.header.frame_id = tf_config[\"frame_id\"]\n",
    "      tf.child_frame_id = tf_config[\"child_frame_id\"]\n",
    "      tf.transform.translation.x = tf_config[\"pose\"][\"position\"][\"x\"]\n",
    "      tf.transform.translation.y = tf_config[\"pose\"][\"position\"][\"y\"]\n",
    "      tf.transform.translation.z = tf_config[\"pose\"][\"position\"][\"z\"]\n",
    "      tf.transform.rotation.w = tf_config[\"pose\"][\"orientation\"][\"w\"]\n",
    "      tf.transform.rotation.x = tf_config[\"pose\"][\"orientation\"][\"x\"]\n",
    "      tf.transform.rotation.y = tf_config[\"pose\"][\"orientation\"][\"y\"]\n",
    "      tf.transform.rotation.z = tf_config[\"pose\"][\"orientation\"][\"z\"]\n",
    "  except:\n",
    "      raise Exception(\"Config file has invalid tf format\")\n",
    "  return tf"
   ]
  },
  {
   "cell_type": "code",
   "execution_count": 14,
   "metadata": {},
   "outputs": [],
   "source": [
    "tfs = []\n",
    "count = 0\n",
    "while True:\n",
    "  count += 1\n",
    "  if not str(count) in config:\n",
    "    break\n",
    "\n",
    "  tf_config = config[str(count)]\n",
    "  \n",
    "  if \"actual_tf\" in tf_config:\n",
    "    tf = parse_tf_config(tf_config[\"actual_tf\"])\n",
    "    tfs.append(tf)\n",
    "\n"
   ]
  },
  {
   "cell_type": "code",
   "execution_count": 15,
   "metadata": {},
   "outputs": [
    {
     "data": {
      "text/plain": [
       "geometry_msgs.msg.TransformStamped(header=std_msgs.msg.Header(stamp=builtin_interfaces.msg.Time(sec=0, nanosec=0), frame_id='world_frame'), child_frame_id='ee_base', transform=geometry_msgs.msg.Transform(translation=geometry_msgs.msg.Vector3(x=1.886353490459603, y=0.6294035659075384, z=2.104304352379259), rotation=geometry_msgs.msg.Quaternion(x=0.7181224757545479, y=0.1036376600634584, z=-0.6221412725371178, w=-0.2941081131805543)))"
      ]
     },
     "execution_count": 15,
     "metadata": {},
     "output_type": "execute_result"
    }
   ],
   "source": [
    "tfs[0]"
   ]
  },
  {
   "cell_type": "code",
   "execution_count": null,
   "metadata": {},
   "outputs": [],
   "source": []
  }
 ],
 "metadata": {
  "kernelspec": {
   "display_name": "Python 3.6.10 ('temp')",
   "language": "python",
   "name": "python3"
  },
  "language_info": {
   "codemirror_mode": {
    "name": "ipython",
    "version": 3
   },
   "file_extension": ".py",
   "mimetype": "text/x-python",
   "name": "python",
   "nbconvert_exporter": "python",
   "pygments_lexer": "ipython3",
   "version": "3.6.10"
  },
  "orig_nbformat": 4,
  "vscode": {
   "interpreter": {
    "hash": "84e04c4df81302457b834bddff417c10c4169c32f98dd4b4107ae96816994649"
   }
  }
 },
 "nbformat": 4,
 "nbformat_minor": 2
}
