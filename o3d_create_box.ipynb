{
 "cells": [
  {
   "cell_type": "code",
   "execution_count": 1,
   "metadata": {},
   "outputs": [],
   "source": [
    "import open3d as o3d\n",
    "\n",
    "def sample_mesh_to_cloud(mesh, sample_number=100000, color = [1, 0.706, 0]):\n",
    "    \"\"\"\n",
    "    Description\n",
    "    -----------\n",
    "        process the cabinet mesh model, sample it as point cloud\n",
    "\n",
    "    Parameters\n",
    "    ----------\n",
    "        mesh: o3d.geometry.TriangleMesh\n",
    "        sample_number: int\n",
    "\n",
    "    Returns\n",
    "    -------\n",
    "        o3d.geometry.PointCloud\n",
    "    \"\"\"\n",
    "    mesh.compute_vertex_normals()\n",
    "    pcd = mesh.sample_points_uniformly(number_of_points=sample_number)\n",
    "    pcd.paint_uniform_color(color)\n",
    "    return pcd\n",
    "\n"
   ]
  },
  {
   "cell_type": "code",
   "execution_count": 5,
   "metadata": {},
   "outputs": [],
   "source": [
    "from pyquaternion import Quaternion\n",
    "import numpy as np\n",
    "\n",
    "def quatrans2matrix(qua, trans):\n",
    "    rotaion_matrix = qua.rotation_matrix\n",
    "    trans_matrix = np.array([trans]).transpose()\n",
    "    tf_m = np.hstack((rotaion_matrix, trans_matrix))\n",
    "    m = np.mat([[0, 0, 0, 1]])\n",
    "    tf_m = np.vstack((tf_m, m))\n",
    "\n",
    "    return tf_m\n",
    "\n",
    "def pose2matrix(pose):\n",
    "    w, x, y, z = pose[3:]\n",
    "    qua = Quaternion(w=w, x=x, y=y, z=z)\n",
    "    trans = pose[:3]\n",
    "    return quatrans2matrix(qua, trans)"
   ]
  },
  {
   "cell_type": "code",
   "execution_count": 3,
   "metadata": {},
   "outputs": [],
   "source": [
    "axis = o3d.geometry.TriangleMesh.create_coordinate_frame(size=0.5, origin=[0,0,0])\n",
    "o3d.visualization.draw_geometries([axis])"
   ]
  },
  {
   "cell_type": "code",
   "execution_count": 8,
   "metadata": {},
   "outputs": [],
   "source": [
    "box = o3d.geometry.TriangleMesh.create_box(width=0.47, height=0.36, depth=0.26) # x,y,z, right bottom corner at origin\n",
    "box_cloud = sample_mesh_to_cloud(box, 5000)\n",
    "# box_cloud.transform(pose2matrix([2.908, -0.740, 1.378, 1, 0, 0, 0]).A)\n",
    "o3d.visualization.draw_geometries([axis,box_cloud])\n"
   ]
  },
  {
   "cell_type": "code",
   "execution_count": null,
   "metadata": {},
   "outputs": [],
   "source": []
  }
 ],
 "metadata": {
  "kernelspec": {
   "display_name": "Python 3",
   "language": "python",
   "name": "python3"
  },
  "language_info": {
   "codemirror_mode": {
    "name": "ipython",
    "version": 3
   },
   "file_extension": ".py",
   "mimetype": "text/x-python",
   "name": "python",
   "nbconvert_exporter": "python",
   "pygments_lexer": "ipython3",
   "version": "3.6.10"
  }
 },
 "nbformat": 4,
 "nbformat_minor": 4
}
