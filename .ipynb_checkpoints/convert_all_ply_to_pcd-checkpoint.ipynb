{
 "cells": [
  {
   "cell_type": "code",
   "execution_count": 1,
   "metadata": {},
   "outputs": [],
   "source": [
    "import open3d as o3d"
   ]
  },
  {
   "cell_type": "code",
   "execution_count": 2,
   "metadata": {},
   "outputs": [
    {
     "data": {
      "text/plain": [
       "['LUCID_HLT003S-001_212600162__20220216181400495_image0.ply',\n",
       " 'LUCID_HLT003S-001_212600162__20220216181504615_image0.ply',\n",
       " 'LUCID_HLT003S-001_212600162__20220216181326407_image0.ply']"
      ]
     },
     "execution_count": 2,
     "metadata": {},
     "output_type": "execute_result"
    }
   ],
   "source": [
    "import os\n",
    "path = \"/home/bot/maldives\"\n",
    "\n",
    "fileList=os.listdir(path)\n",
    "fileList"
   ]
  },
  {
   "cell_type": "code",
   "execution_count": 5,
   "metadata": {},
   "outputs": [
    {
     "name": "stdout",
     "output_type": "stream",
     "text": [
      "/home/bot/maldivesLUCID_HLT003S-001_212600162__20220216181400495_image0.ply ======> /home/bot/maldivesLUCID_HLT003S-001_212600162__20220216181400495_image0.pcd\n",
      "...\n",
      "/home/bot/maldivesLUCID_HLT003S-001_212600162__20220216181504615_image0.ply ======> /home/bot/maldivesLUCID_HLT003S-001_212600162__20220216181504615_image0.pcd\n",
      "...\n",
      "/home/bot/maldivesLUCID_HLT003S-001_212600162__20220216181326407_image0.ply ======> /home/bot/maldivesLUCID_HLT003S-001_212600162__20220216181326407_image0.pcd\n",
      "...\n"
     ]
    }
   ],
   "source": [
    "for file in fileList:\n",
    "    if file[-3:] == \"ply\":\n",
    "        newfile = file[:-3]+\"pcd\"\n",
    "        oldname = path + file\n",
    "        newname = path + newfile\n",
    "        print(oldname,'======>',newname)\n",
    "        \n",
    "        pcd = o3d.io.read_point_cloud(oldname)\n",
    "        o3d.io.write_point_cloud(newname, pcd)\n",
    "        print('...')"
   ]
  },
  {
   "cell_type": "code",
   "execution_count": 4,
   "metadata": {},
   "outputs": [
    {
     "data": {
      "text/plain": [
       "False"
      ]
     },
     "execution_count": 4,
     "metadata": {},
     "output_type": "execute_result"
    }
   ],
   "source": [
    "pcd = o3d.io.read_point_cloud(\"./data/cloud.pcd\")\n",
    "o3d.io.write_point_cloud(\"./data/cloud_out.pcd\", pcd)"
   ]
  },
  {
   "cell_type": "code",
   "execution_count": null,
   "metadata": {},
   "outputs": [],
   "source": []
  }
 ],
 "metadata": {
  "kernelspec": {
   "display_name": "Python 3",
   "language": "python",
   "name": "python3"
  },
  "language_info": {
   "codemirror_mode": {
    "name": "ipython",
    "version": 3
   },
   "file_extension": ".py",
   "mimetype": "text/x-python",
   "name": "python",
   "nbconvert_exporter": "python",
   "pygments_lexer": "ipython3",
   "version": "3.6.10"
  }
 },
 "nbformat": 4,
 "nbformat_minor": 4
}
