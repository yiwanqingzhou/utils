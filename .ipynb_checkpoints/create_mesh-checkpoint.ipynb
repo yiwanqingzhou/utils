{
 "cells": [
  {
   "cell_type": "code",
   "execution_count": 1,
   "metadata": {},
   "outputs": [],
   "source": [
    "import open3d as o3d\n",
    "import numpy as np\n",
    "import math\n",
    "import copy"
   ]
  },
  {
   "cell_type": "code",
   "execution_count": 2,
   "metadata": {},
   "outputs": [],
   "source": [
    "def sample_mesh_to_cloud(mesh, sample_number=50000):\n",
    "    \"\"\"\n",
    "    Description\n",
    "    -----------\n",
    "        process the cabinet mesh model, sample it as point cloud\n",
    "\n",
    "    Parameters\n",
    "    ----------\n",
    "        mesh: o3d.geometry.TriangleMesh\n",
    "        sample_number: int\n",
    "\n",
    "    Returns\n",
    "    -------\n",
    "        o3d.geometry.PointCloud\n",
    "    \"\"\"\n",
    "    mesh.compute_vertex_normals()\n",
    "    pcd = mesh.sample_points_uniformly(number_of_points=sample_number)\n",
    "    pcd.paint_uniform_color([1, 0.706, 0])  # yellow\n",
    "    return pcd"
   ]
  },
  {
   "cell_type": "code",
   "execution_count": 3,
   "metadata": {},
   "outputs": [],
   "source": [
    "from pyquaternion import Quaternion\n",
    "\n",
    "\n",
    "def matrix2rotation(matrix):\n",
    "    return matrix[:3, :3]\n",
    "\n",
    "\n",
    "def matrix2qua(matrix):\n",
    "    qua = Quaternion(matrix=matrix2rotation(matrix))\n",
    "    return qua\n",
    "\n",
    "\n",
    "def matrix2trans(matrix):\n",
    "    return np.array(matrix[:3, 3:].transpose())[0]\n",
    "\n",
    "\n",
    "def matrix2pose(matrix):\n",
    "    qua = matrix2qua(matrix)\n",
    "    translation = matrix2trans(matrix)\n",
    "    return np.hstack((translation, qua.elements))\n",
    "\n",
    "\n",
    "def quatrans2matrix(qua, trans):\n",
    "    rotaion_matrix = qua.rotation_matrix\n",
    "    trans_matrix = np.array([trans]).transpose()\n",
    "    tf_m = np.hstack((rotaion_matrix, trans_matrix))\n",
    "    m = np.mat([[0, 0, 0, 1]])\n",
    "    tf_m = np.vstack((tf_m, m))\n",
    "\n",
    "    return tf_m\n",
    "\n",
    "\n",
    "def pose2matrix(pose):\n",
    "    w, x, y, z = pose[3:]\n",
    "    qua = Quaternion(w=w, x=x, y=y, z=z)\n",
    "    trans = pose[:3]\n",
    "    return quatrans2matrix(qua, trans)\n",
    "\n",
    "\n",
    "def translation2matrix(trans):\n",
    "    qua = Quaternion(w=1, x=0, y=0, z=0)\n",
    "    return quatrans2matrix(qua, trans)\n",
    "\n",
    "\n",
    "def qua2matrix(qua):\n",
    "    trans = [0, 0, 0]\n",
    "    return quatrans2matrix(qua, trans)"
   ]
  },
  {
   "cell_type": "code",
   "execution_count": 6,
   "metadata": {},
   "outputs": [],
   "source": [
    "\n",
    "brown_box = o3d.geometry.TriangleMesh.create_box(\n",
    "    width=0.47, height=0.26, depth=0.37)\n",
    "\n",
    "mesh_box_cloud = sample_mesh_to_cloud(brown_box)\n",
    "\n"
   ]
  },
  {
   "cell_type": "code",
   "execution_count": null,
   "metadata": {},
   "outputs": [],
   "source": [
    "mesh_box_cloud.transform(pose2matrix([3.325, -1.19, 0.13, 1, 0, 0, 0]).A)\n",
    "\n",
    "\n",
    "o3d.visualization.draw_geometries(\n",
    "    mesh_box_cloud, window_name=\"Mesh model\"\n",
    ")\n"
   ]
  }
 ],
 "metadata": {
  "kernelspec": {
   "display_name": "Python 3",
   "language": "python",
   "name": "python3"
  },
  "language_info": {
   "codemirror_mode": {
    "name": "ipython",
    "version": 3
   },
   "file_extension": ".py",
   "mimetype": "text/x-python",
   "name": "python",
   "nbconvert_exporter": "python",
   "pygments_lexer": "ipython3",
   "version": "3.6.10"
  },
  "vscode": {
   "interpreter": {
    "hash": "84e04c4df81302457b834bddff417c10c4169c32f98dd4b4107ae96816994649"
   }
  }
 },
 "nbformat": 4,
 "nbformat_minor": 2
}
