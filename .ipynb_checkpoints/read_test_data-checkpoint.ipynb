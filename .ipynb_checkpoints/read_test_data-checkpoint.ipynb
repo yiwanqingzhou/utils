{
 "cells": [
  {
   "cell_type": "code",
   "execution_count": 18,
   "metadata": {},
   "outputs": [],
   "source": [
    "import os\n",
    "path = \"/home/bot/petra/Petra_data/20220310\"\n",
    "\n",
    "fileList=os.listdir(path)\n"
   ]
  },
  {
   "cell_type": "code",
   "execution_count": 19,
   "metadata": {},
   "outputs": [],
   "source": [
    "dict_cycle_files = {}\n",
    "\n",
    "for file in fileList:\n",
    "    index = file[file.find('_') + 1: file.find('.')]\n",
    "    \n",
    "    if index in dict_cycle_files:\n",
    "        dict_cycle_files[index].append(file) \n",
    "    else:\n",
    "        dict_cycle_files[index] = [file]\n",
    "\n"
   ]
  },
  {
   "cell_type": "code",
   "execution_count": 30,
   "metadata": {},
   "outputs": [
    {
     "name": "stdout",
     "output_type": "stream",
     "text": [
      "0\n",
      "['cloud_0.pcd', 'color_0.png', 'depth_0.png']\n",
      "1\n",
      "['cloud_1.pcd', 'depth_1.png', 'color_1.png']\n",
      "2\n",
      "['color_2.png', 'depth_2.png', 'cloud_2.pcd']\n",
      "[{'cloud': 'cloud_0.pcd', 'color': 'color_0.png'}, {'cloud': 'cloud_1.pcd', 'color': 'color_1.png'}, {'color': 'color_2.png', 'cloud': 'cloud_2.pcd'}]\n"
     ]
    }
   ],
   "source": [
    "prefixs = [\"cloud\", \"color\"]\n",
    "index_range = range(0,3)\n",
    "\n",
    "\n",
    "datas = []\n",
    "\n",
    "for index in index_range:\n",
    "    \n",
    "    key = str(index)\n",
    "    \n",
    "    if key in dict_cycle_files:\n",
    "        \n",
    "        files = dict_cycle_files[key]\n",
    "        data = {}\n",
    "    \n",
    "        for file in files:\n",
    "            prefix = file[file.rfind('/') + 1 : file.find('_') ]\n",
    "\n",
    "            for p in prefixs:\n",
    "                if prefix == p:\n",
    "                    data[prefix] = file\n",
    "    \n",
    "        datas.append(data)\n",
    "            \n",
    "print(datas)"
   ]
  },
  {
   "cell_type": "code",
   "execution_count": null,
   "metadata": {},
   "outputs": [],
   "source": []
  }
 ],
 "metadata": {
  "kernelspec": {
   "display_name": "Python 3",
   "language": "python",
   "name": "python3"
  },
  "language_info": {
   "codemirror_mode": {
    "name": "ipython",
    "version": 3
   },
   "file_extension": ".py",
   "mimetype": "text/x-python",
   "name": "python",
   "nbconvert_exporter": "python",
   "pygments_lexer": "ipython3",
   "version": "3.6.10"
  }
 },
 "nbformat": 4,
 "nbformat_minor": 4
}
