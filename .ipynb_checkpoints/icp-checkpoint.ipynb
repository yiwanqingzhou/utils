{
 "cells": [
  {
   "cell_type": "code",
   "execution_count": 1,
   "metadata": {},
   "outputs": [],
   "source": [
    "import open3d as o3d\n",
    "import numpy as np\n",
    "import math\n",
    "import copy"
   ]
  },
  {
   "cell_type": "code",
   "execution_count": 2,
   "metadata": {},
   "outputs": [],
   "source": [
    "def load_point_cloud(path):\n",
    "    \"\"\"\n",
    "    Description\n",
    "    -----------\n",
    "        read point cloud\n",
    "\n",
    "    Parameters\n",
    "    ----------\n",
    "        path: str\n",
    "\n",
    "    Returns\n",
    "    -------\n",
    "        o3d.geometry.PointCloud\n",
    "    \"\"\"\n",
    "    cloud = o3d.io.read_point_cloud(path)\n",
    "    return cloud\n"
   ]
  },
  {
   "cell_type": "code",
   "execution_count": 3,
   "metadata": {},
   "outputs": [],
   "source": [
    "from pyquaternion import Quaternion\n",
    "\n",
    "\n",
    "def matrix2rotation(matrix):\n",
    "    return matrix[:3, :3]\n",
    "\n",
    "\n",
    "def matrix2qua(matrix):\n",
    "    qua = Quaternion(matrix=matrix2rotation(matrix))\n",
    "    return qua\n",
    "\n",
    "\n",
    "def matrix2trans(matrix):\n",
    "    return np.array(matrix[:3, 3:].transpose())[0]\n",
    "\n",
    "\n",
    "def matrix2pose(matrix):\n",
    "    qua = matrix2qua(matrix)\n",
    "    translation = matrix2trans(matrix)\n",
    "    return np.hstack((translation, qua.elements))\n",
    "\n",
    "\n",
    "def quatrans2matrix(qua, trans):\n",
    "    rotaion_matrix = qua.rotation_matrix\n",
    "    trans_matrix = np.array([trans]).transpose()\n",
    "    tf_m = np.hstack((rotaion_matrix, trans_matrix))\n",
    "    m = np.mat([[0, 0, 0, 1]])\n",
    "    tf_m = np.vstack((tf_m, m))\n",
    "\n",
    "    return tf_m\n",
    "\n",
    "\n",
    "def pose2matrix(pose):\n",
    "    w, x, y, z = pose[3:]\n",
    "    qua = Quaternion(w=w, x=x, y=y, z=z)\n",
    "    trans = pose[:3]\n",
    "    return quatrans2matrix(qua, trans)\n",
    "\n",
    "\n",
    "def translation2matrix(trans):\n",
    "    qua = Quaternion(w=1, x=0, y=0, z=0)\n",
    "    return quatrans2matrix(qua, trans)\n",
    "\n",
    "\n",
    "def qua2matrix(qua):\n",
    "    trans = [0, 0, 0]\n",
    "    return quatrans2matrix(qua, trans)"
   ]
  },
  {
   "cell_type": "code",
   "execution_count": 11,
   "metadata": {},
   "outputs": [],
   "source": [
    "def get_picked_indices(pcd):\n",
    "    vis = o3d.visualization.VisualizerWithEditing()\n",
    "    vis.create_window(window_name=\"Resgistration: Pick Corresponding Points\")\n",
    "    vis.add_geometry(pcd)\n",
    "    vis.run()\n",
    "    vis.destroy_window()\n",
    "    return vis.get_picked_points()\n",
    "\n",
    "\n",
    "def draw_registration_result(source, target, transformation):\n",
    "    source_temp = copy.deepcopy(source)\n",
    "    source_temp.transform(transformation)\n",
    "    o3d.visualization.draw_geometries(\n",
    "        [source_temp, target], window_name=\"Registration Visualization\"\n",
    "    )\n",
    "    return source_temp + target\n",
    "\n",
    "\n",
    "def icp(source, target, icp_threshold):\n",
    "    print('Please press Shift and click the feature points in the same order, press Q to finish')\n",
    "    picked_id_source = get_picked_indices(source)\n",
    "    print('picked_id_source: ', picked_id_source)\n",
    "    return picked_id\n",
    "        \n",
    "#     while True:\n",
    "        \n",
    "#         print('Please press Shift and click the feature points in the same order, press Q to finish')\n",
    "#         picked_id_source = get_picked_indices(source)\n",
    "#         print('picked_id_source: ', picked_id_source)\n",
    "        \n",
    "#         print('Please press Shift and click the feature points, press Q to finish')\n",
    "#         picked_id_target = get_picked_indices(target)\n",
    "#         print('picked_id_target: ', picked_id_target)\n",
    "\n",
    "#         if len(picked_id_source) != len(picked_id_target):\n",
    "#             print(\"The number of corresponding points are not the same, please re-pick\")\n",
    "#         else:\n",
    "#             break\n",
    "\n",
    "#     corr = np.zeros((len(picked_id_source), 2))\n",
    "#     corr[:, 0] = picked_id_source\n",
    "#     corr[:, 1] = picked_id_target\n",
    "\n",
    "#     p2p = o3d.registration.TransformationEstimationPointToPoint()\n",
    "#     trans_init = p2p.compute_transformation(\n",
    "#         source, target, o3d.utility.Vector2iVector(corr)\n",
    "#     )\n",
    "\n",
    "#     reg_p2p = o3d.registration.registration_icp(\n",
    "#         source,\n",
    "#         target,\n",
    "#         icp_threshold,\n",
    "#         trans_init,\n",
    "#         o3d.registration.TransformationEstimationPointToPoint(),\n",
    "#     )\n",
    "\n",
    "#     transform = reg_p2p.transformation\n",
    "#     print(\"Transformation Matrix: \\n{}\\n\".format(transform))\n",
    "\n",
    "#     final_cloud = draw_registration_result(\n",
    "#         source, target, transform)\n",
    "    \n",
    "#     return transform"
   ]
  },
  {
   "cell_type": "code",
   "execution_count": 5,
   "metadata": {},
   "outputs": [],
   "source": [
    "def load_mesh_model(path):\n",
    "    \"\"\"\n",
    "    Description\n",
    "    -----------\n",
    "        read mesh model\n",
    "\n",
    "    Parameters\n",
    "    ----------\n",
    "        path: str\n",
    "\n",
    "    Returns\n",
    "    -------\n",
    "        o3d.geometry.TriangleMesh\n",
    "    \"\"\"\n",
    "    mesh = o3d.io.read_triangle_mesh(path)\n",
    "    return mesh\n",
    "\n",
    "def sample_mesh_to_cloud(mesh, sample_number=100000):\n",
    "    \"\"\"\n",
    "    Description\n",
    "    -----------\n",
    "        process the cabinet mesh model, sample it as point cloud\n",
    "\n",
    "    Parameters\n",
    "    ----------\n",
    "        mesh: o3d.geometry.TriangleMesh\n",
    "        sample_number: int\n",
    "\n",
    "    Returns\n",
    "    -------\n",
    "        o3d.geometry.PointCloud\n",
    "    \"\"\"\n",
    "    mesh.compute_vertex_normals()\n",
    "    pcd = mesh.sample_points_uniformly(number_of_points=sample_number)\n",
    "    pcd.paint_uniform_color([1, 0.706, 0])  # yellow\n",
    "    return pcd"
   ]
  },
  {
   "cell_type": "code",
   "execution_count": 16,
   "metadata": {},
   "outputs": [],
   "source": [
    "path = \"/home/bot/dev/tips/boxes.stl\"\n",
    "mesh = load_mesh_model(path)\n",
    "target = sample_mesh_to_cloud(mesh, 500000)\n",
    "o3d.visualization.draw_geometries([target])"
   ]
  },
  {
   "cell_type": "code",
   "execution_count": 7,
   "metadata": {},
   "outputs": [],
   "source": [
    "source = load_point_cloud(\"/home/bot/dev/dr_vision_lib/onsite_data/gobekli/1029_percipio_tof_cal/cloud_2.pcd\")\n"
   ]
  },
  {
   "cell_type": "code",
   "execution_count": 8,
   "metadata": {},
   "outputs": [
    {
     "data": {
      "text/plain": [
       "geometry::PointCloud with 1000000 points."
      ]
     },
     "execution_count": 8,
     "metadata": {},
     "output_type": "execute_result"
    }
   ],
   "source": [
    "target"
   ]
  },
  {
   "cell_type": "code",
   "execution_count": 9,
   "metadata": {},
   "outputs": [],
   "source": [
    "center_point = np.array([0,0,0])\n",
    "min_bound = center_point - np.asarray([2.5, 2.5, 0])\n",
    "max_bound = center_point + np.asarray([2.5, 2.5, 5])\n",
    "\n",
    "cropbox = o3d.geometry.AxisAlignedBoundingBox(min_bound=min_bound, max_bound=max_bound)\n",
    "\n",
    "source = source.crop(cropbox)\n",
    "target = target.crop(cropbox)"
   ]
  },
  {
   "cell_type": "code",
   "execution_count": 20,
   "metadata": {},
   "outputs": [
    {
     "name": "stdout",
     "output_type": "stream",
     "text": [
      "[14024, 14941, 46089, 47171, 48569, 48937, 56414, 56800, 64696, 72266, 72563, 72061, 71835, 82961, 73593, 69773, 62781]\n"
     ]
    }
   ],
   "source": [
    "source_ids = get_picked_indices(source)\n",
    "print(source_ids)"
   ]
  },
  {
   "cell_type": "code",
   "execution_count": null,
   "metadata": {},
   "outputs": [],
   "source": []
  },
  {
   "cell_type": "code",
   "execution_count": 18,
   "metadata": {
    "scrolled": true
   },
   "outputs": [
    {
     "name": "stdout",
     "output_type": "stream",
     "text": [
      "Please press Shift and click the feature points in the same order, press Q to finish\n",
      "picked_id_source:  [14025, 15243, 46088, 47500, 47908, 56414, 56476, 64990, 72288, 72336, 82838, 73593, 69774, 62781, 71560, 48271]\n"
     ]
    }
   ],
   "source": [
    "target_ids = get_picked_indices(target)\n",
    "print(target_ids)"
   ]
  },
  {
   "cell_type": "code",
   "execution_count": 9,
   "metadata": {},
   "outputs": [
    {
     "data": {
      "text/plain": [
       "array([-0.10303814, -1.64661454,  0.18242547,  0.9889076 , -0.14499172,\n",
       "        0.02043597, -0.02493048])"
      ]
     },
     "execution_count": 9,
     "metadata": {},
     "output_type": "execute_result"
    }
   ],
   "source": [
    "pose = matrix2pose(transform)\n",
    "\n",
    "pose"
   ]
  },
  {
   "cell_type": "code",
   "execution_count": null,
   "metadata": {},
   "outputs": [],
   "source": []
  }
 ],
 "metadata": {
  "kernelspec": {
   "display_name": "Python 3",
   "language": "python",
   "name": "python3"
  },
  "language_info": {
   "codemirror_mode": {
    "name": "ipython",
    "version": 3
   },
   "file_extension": ".py",
   "mimetype": "text/x-python",
   "name": "python",
   "nbconvert_exporter": "python",
   "pygments_lexer": "ipython3",
   "version": "3.6.10"
  }
 },
 "nbformat": 4,
 "nbformat_minor": 4
}
