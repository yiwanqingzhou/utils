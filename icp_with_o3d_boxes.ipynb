{
 "cells": [
  {
   "cell_type": "code",
   "execution_count": 1,
   "metadata": {},
   "outputs": [],
   "source": [
    "import open3d as o3d\n",
    "import numpy as np\n",
    "import math\n",
    "import copy"
   ]
  },
  {
   "cell_type": "code",
   "execution_count": 2,
   "metadata": {},
   "outputs": [],
   "source": [
    "from pyquaternion import Quaternion\n",
    "\n",
    "\n",
    "def matrix2rotation(matrix):\n",
    "    return matrix[:3, :3]\n",
    "\n",
    "\n",
    "def matrix2qua(matrix):\n",
    "    qua = Quaternion(matrix=matrix2rotation(matrix))\n",
    "    return qua\n",
    "\n",
    "\n",
    "def matrix2trans(matrix):\n",
    "    return np.array(matrix[:3, 3:].transpose())[0]\n",
    "\n",
    "\n",
    "def matrix2pose(matrix):\n",
    "    qua = matrix2qua(matrix)\n",
    "    translation = matrix2trans(matrix)\n",
    "    return np.hstack((translation, qua.elements))\n",
    "\n",
    "\n",
    "def quatrans2matrix(qua, trans):\n",
    "    rotaion_matrix = qua.rotation_matrix\n",
    "    trans_matrix = np.array([trans]).transpose()\n",
    "    tf_m = np.hstack((rotaion_matrix, trans_matrix))\n",
    "    m = np.mat([[0, 0, 0, 1]])\n",
    "    tf_m = np.vstack((tf_m, m))\n",
    "\n",
    "    return tf_m\n",
    "\n",
    "\n",
    "def pose2matrix(pose):\n",
    "    w, x, y, z = pose[3:]\n",
    "    qua = Quaternion(w=w, x=x, y=y, z=z)\n",
    "    trans = pose[:3]\n",
    "    return quatrans2matrix(qua, trans)\n",
    "\n",
    "\n",
    "def translation2matrix(trans):\n",
    "    qua = Quaternion(w=1, x=0, y=0, z=0)\n",
    "    return quatrans2matrix(qua, trans)\n",
    "\n",
    "\n",
    "def qua2matrix(qua):\n",
    "    trans = [0, 0, 0]\n",
    "    return quatrans2matrix(qua, trans)"
   ]
  },
  {
   "cell_type": "code",
   "execution_count": 3,
   "metadata": {},
   "outputs": [],
   "source": [
    "def sample_mesh_to_cloud(mesh, sample_number=100000, color = [1, 0.706, 0]):\n",
    "    \"\"\"\n",
    "    Description\n",
    "    -----------\n",
    "        process the cabinet mesh model, sample it as point cloud\n",
    "\n",
    "    Parameters\n",
    "    ----------\n",
    "        mesh: o3d.geometry.TriangleMesh\n",
    "        sample_number: int\n",
    "\n",
    "    Returns\n",
    "    -------\n",
    "        o3d.geometry.PointCloud\n",
    "    \"\"\"\n",
    "    mesh.compute_vertex_normals()\n",
    "    pcd = mesh.sample_points_uniformly(number_of_points=sample_number)\n",
    "    pcd.paint_uniform_color(color)\n",
    "    return pcd"
   ]
  },
  {
   "cell_type": "code",
   "execution_count": 4,
   "metadata": {},
   "outputs": [],
   "source": [
    "cloud = o3d.geometry.PointCloud()"
   ]
  },
  {
   "cell_type": "code",
   "execution_count": 5,
   "metadata": {},
   "outputs": [],
   "source": [
    "box = o3d.geometry.TriangleMesh.create_box(width=0.47, height=0.36, depth=0.26)\n",
    "box_cloud = sample_mesh_to_cloud(box, 5000)\n",
    "box_cloud.transform(pose2matrix([2.908, -0.740, 1.378, 1, 0, 0, 0]).A)\n",
    "cloud += box_cloud\n",
    "\n",
    "box1 = o3d.geometry.TriangleMesh.create_box(width=0.47, height=0.36, depth=0.26)\n",
    "box_cloud1 = sample_mesh_to_cloud(box1, 5000, [0.5,0.5,0.5])\n",
    "box_cloud1.transform(pose2matrix([2.905, -0.732, 1.119, 1, 0, 0, 0]).A)\n",
    "cloud += box_cloud1\n",
    "\n",
    "box = o3d.geometry.TriangleMesh.create_box(width=0.47, height=0.36, depth=0.26)\n",
    "box_cloud = sample_mesh_to_cloud(box, 5000)\n",
    "box_cloud.transform(pose2matrix([2.904, -0.361, 0.872, 1, 0, 0, 0]).A)\n",
    "cloud += box_cloud\n",
    "\n",
    "box = o3d.geometry.TriangleMesh.create_box(width=0.47, height=0.36, depth=0.26)\n",
    "box_cloud = sample_mesh_to_cloud(box, 5000)\n",
    "box_cloud.transform(pose2matrix([2.904, -0.737, 0.869, 1, 0, 0, 0]).A)\n",
    "cloud += box_cloud\n",
    "\n",
    "box = o3d.geometry.TriangleMesh.create_box(width=0.47, height=0.36, depth=0.26)\n",
    "box_cloud = sample_mesh_to_cloud(box, 5000)\n",
    "box_cloud.transform(pose2matrix([2.913, -0.360, 0.615, 1, 0, 0, 0]).A)\n",
    "cloud += box_cloud\n",
    "\n",
    "box = o3d.geometry.TriangleMesh.create_box(width=0.47, height=0.36, depth=0.26)\n",
    "box_cloud = sample_mesh_to_cloud(box, 5000)\n",
    "box_cloud.transform(pose2matrix([2.913, -0.739, 0.606, 1, 0, 0, 0]).A)\n",
    "cloud += box_cloud\n",
    "\n",
    "box = o3d.geometry.TriangleMesh.create_box(width=0.47, height=0.36, depth=0.26)\n",
    "box_cloud = sample_mesh_to_cloud(box, 5000)\n",
    "box_cloud.transform(pose2matrix([2.907, -1.109, 0.606, 1, 0, 0, 0]).A)\n",
    "cloud += box_cloud\n",
    "\n",
    "box = o3d.geometry.TriangleMesh.create_box(width=0.47, height=0.36, depth=0.26)\n",
    "box_cloud = sample_mesh_to_cloud(box, 5000)\n",
    "box_cloud.transform(pose2matrix([2.915, -0.360, 0.358, 1, 0, 0, 0]).A)\n",
    "cloud += box_cloud\n",
    "\n",
    "box = o3d.geometry.TriangleMesh.create_box(width=0.47, height=0.36, depth=0.26)\n",
    "box_cloud = sample_mesh_to_cloud(box, 5000)\n",
    "box_cloud.transform(pose2matrix([2.914, -0.739, 0.355, 1, 0, 0, 0]).A)\n",
    "cloud += box_cloud\n",
    "\n",
    "box = o3d.geometry.TriangleMesh.create_box(width=0.47, height=0.36, depth=0.26)\n",
    "box_cloud = sample_mesh_to_cloud(box, 5000)\n",
    "box_cloud.transform(pose2matrix([2.907, -1.109, 0.356, 1, 0, 0, 0]).A)\n",
    "cloud += box_cloud"
   ]
  },
  {
   "cell_type": "code",
   "execution_count": 18,
   "metadata": {},
   "outputs": [],
   "source": [
    "cloud = o3d.geometry.PointCloud()\n",
    "\n",
    "# sign_on_front = o3d.geometry.TriangleMesh.create_box(width=0.01, height=0.01, depth=0.01)\n",
    "# sign_cloud = sample_mesh_to_cloud(sign_on_front, 1000)\n",
    "# sign_cloud.transform(pose2matrix([0, 0, 0, 1, 0, 0, 0]).A)\n",
    "# cloud += sign_cloud\n",
    "\n",
    "world_frame = o3d.geometry.TriangleMesh.create_coordinate_frame(1)\n",
    "\n",
    "# sign_on_front = o3d.geometry.TriangleMesh.create_box(width=0.01, height=0.01, depth=0.01)\n",
    "# sign_cloud = sample_mesh_to_cloud(sign_on_front, 1000)\n",
    "# sign_cloud.transform(pose2matrix([1, 0, 0, 1, 0, 0, 0]).A)\n",
    "# cloud += sign_cloud\n",
    "\n",
    "# sign_on_front = o3d.geometry.TriangleMesh.create_box(width=0.01, height=0.01, depth=0.01)\n",
    "# sign_cloud = sample_mesh_to_cloud(sign_on_front, 1000)\n",
    "# sign_cloud.transform(pose2matrix([0, 1, 0, 1, 0, 0, 0]).A)\n",
    "# cloud += sign_cloud\n",
    "\n",
    "# sign_on_front = o3d.geometry.TriangleMesh.create_box(width=0.01, height=0.01, depth=0.01)\n",
    "# sign_cloud = sample_mesh_to_cloud(sign_on_front, 1000)\n",
    "# sign_cloud.transform(pose2matrix([0, 0, 1, 1, 0, 0, 0]).A)\n",
    "# cloud += sign_cloud\n",
    "\n",
    "box = o3d.geometry.TriangleMesh.create_box(width=0.135, height=0.27, depth=0.4)\n",
    "box_cloud = sample_mesh_to_cloud(box, 10000)\n",
    "box_cloud.transform(pose2matrix([0.432306, -1.79341, -0.4 + 0.39580, 1,0,0,0]).A)\n",
    "cloud += box_cloud\n",
    "\n",
    "box = o3d.geometry.TriangleMesh.create_box(width=0.135, height=0.27, depth=0.4)\n",
    "box_cloud = sample_mesh_to_cloud(box, 10000)\n",
    "box_cloud.transform(pose2matrix([0.432306-0.137, -1.79341, -0.4 + 0.39580, 1,0,0,0]).A)\n",
    "cloud += box_cloud\n",
    "\n",
    "box = o3d.geometry.TriangleMesh.create_box(width=0.39, height=0.425, depth=0.6)\n",
    "box_cloud = sample_mesh_to_cloud(box, 10000)\n",
    "box_cloud.transform(pose2matrix([0.26643 -0.39, -1.52622 -0.425, -0.6 + 0.675786, 1,0,0,0]).A)\n",
    "cloud += box_cloud\n",
    "\n",
    "box = o3d.geometry.TriangleMesh.create_box(width=0.27, height=0.135, depth=0.19)\n",
    "box_cloud = sample_mesh_to_cloud(box, 10000)\n",
    "box_cloud.transform(pose2matrix([0.22574-0.27, -1.60253-0.135, -0.19 + 0.864713, 1,0,0,0]).A)\n",
    "cloud += box_cloud\n",
    "\n",
    "box = o3d.geometry.TriangleMesh.create_box(width=0.405, height=0.62, depth=0.7)\n",
    "box_cloud = sample_mesh_to_cloud(box, 10000)\n",
    "box_cloud.transform(pose2matrix([-0.5299, -1.39576-0.62, -0.7 + 1.12699, 1,0,0,0]).A)\n",
    "cloud += box_cloud\n",
    "\n",
    "box = o3d.geometry.TriangleMesh.create_box(width=0.27, height=0.19, depth=0.135)\n",
    "box_cloud = sample_mesh_to_cloud(box, 10000)\n",
    "box_cloud.transform(pose2matrix([-0.50507, -1.49368-0.19, -0.135 + 1.26338, 1,0,0,0]).A)\n",
    "cloud += box_cloud\n",
    "\n",
    "o3d.visualization.draw_geometries([world_frame, cloud])\n"
   ]
  },
  {
   "cell_type": "code",
   "execution_count": 35,
   "metadata": {},
   "outputs": [],
   "source": [
    "world_frame = o3d.geometry.TriangleMesh.create_coordinate_frame(1)\n",
    "\n",
    "cloud = o3d.geometry.PointCloud()\n",
    "\n",
    "box = o3d.geometry.TriangleMesh.create_box(width=1, height=1.2, depth=0.01)\n",
    "box_cloud = sample_mesh_to_cloud(box, 100000)\n",
    "box_cloud.transform(pose2matrix([-0.5, -0.6, 0.01, 1,0,0,0]).A)\n",
    "box_cloud.transform(pose2matrix([-0.57428, 0.0153397, 1.80461, 0.999183, 0.036001, -0.00715141, 0.0169332]).A)\n",
    "cloud += box_cloud\n",
    "\n",
    "add_sign = True\n",
    "if add_sign:\n",
    "    sign_on_front = o3d.geometry.TriangleMesh.create_box(width=0.01, height=0.01, depth=0.01)\n",
    "    sign_cloud = sample_mesh_to_cloud(sign_on_front, 1000)\n",
    "    sign_cloud.transform(pose2matrix([-2, 0, 1.5, 1, 0, 0, 0]).A)\n",
    "    cloud =  cloud + sign_cloud\n",
    "# o3d.visualization.draw_geometries([target])\n",
    "\n",
    "o3d.visualization.draw_geometries([world_frame, cloud, source])"
   ]
  },
  {
   "cell_type": "code",
   "execution_count": 20,
   "metadata": {},
   "outputs": [],
   "source": [
    "o3d.visualization.draw_geometries([cloud])"
   ]
  },
  {
   "cell_type": "code",
   "execution_count": 36,
   "metadata": {},
   "outputs": [],
   "source": [
    "target = cloud"
   ]
  },
  {
   "cell_type": "code",
   "execution_count": 24,
   "metadata": {},
   "outputs": [],
   "source": [
    "\n",
    "add_sign = True\n",
    "if add_sign:\n",
    "    sign_on_front = o3d.geometry.TriangleMesh.create_box(width=0.01, height=0.01, depth=0.01)\n",
    "    sign_cloud = sample_mesh_to_cloud(sign_on_front, 1000)\n",
    "#     sign_cloud.transform(pose2matrix([1.75 + 1.2, 0, 0.07 + 0.26, 1, 0, 0, 0]).A)\n",
    "    sign_cloud.transform(pose2matrix([3.5, 0, 1, 1, 0, 0, 0]).A)\n",
    "    target =  target + sign_cloud\n",
    "o3d.visualization.draw_geometries([target])"
   ]
  },
  {
   "cell_type": "code",
   "execution_count": 5,
   "metadata": {},
   "outputs": [],
   "source": [
    "def load_point_cloud(path):\n",
    "    \"\"\"\n",
    "    Description\n",
    "    -----------\n",
    "        read point cloud\n",
    "\n",
    "    Parameters\n",
    "    ----------\n",
    "        path: str\n",
    "\n",
    "    Returns\n",
    "    -------\n",
    "        o3d.geometry.PointCloud\n",
    "    \"\"\"\n",
    "    cloud = o3d.io.read_point_cloud(path)\n",
    "    return cloud\n",
    "\n",
    "def get_picked_indices(pcd):\n",
    "    vis = o3d.visualization.VisualizerWithEditing()\n",
    "    vis.create_window(window_name=\"Resgistration: Pick Corresponding Points\")\n",
    "    vis.add_geometry(pcd)\n",
    "    vis.run()\n",
    "    vis.destroy_window()\n",
    "    return vis.get_picked_points()\n",
    "\n",
    "\n",
    "def draw_registration_result(source, target, transformation):\n",
    "    source_temp = copy.deepcopy(source)\n",
    "    source_temp.transform(transformation)\n",
    "    o3d.visualization.draw_geometries(\n",
    "        [source_temp, target], window_name=\"Registration Visualization\"\n",
    "    )\n",
    "    return source_temp + target"
   ]
  },
  {
   "cell_type": "code",
   "execution_count": 37,
   "metadata": {},
   "outputs": [
    {
     "name": "stdout",
     "output_type": "stream",
     "text": [
      "4\n",
      "[8020, 318401, 327486, 9248]\n"
     ]
    }
   ],
   "source": [
    "source = load_point_cloud(\"/home/bot/dev/projects_data/honghe/pallet_on_site/tfed.pcd\")\n",
    "source_ids = get_picked_indices(source)\n",
    "# source_ids = [18846, 19812, 40421, 40864, 41687, 42122, 42167, 43343, 69414, 69115, 68812]\n",
    "print(len(source_ids))\n",
    "print(source_ids)"
   ]
  },
  {
   "cell_type": "code",
   "execution_count": 38,
   "metadata": {},
   "outputs": [
    {
     "name": "stdout",
     "output_type": "stream",
     "text": [
      "4\n",
      "[366, 1333, 1191, 525]\n"
     ]
    }
   ],
   "source": [
    "target_ids = get_picked_indices(target)\n",
    "# target_ids = [31252, 46024, 1273, 1674, 18570, 25855, 26750, 40816, 11751, 38898, 36067]\n",
    "print(len(target_ids))\n",
    "print(target_ids)"
   ]
  },
  {
   "cell_type": "code",
   "execution_count": 39,
   "metadata": {},
   "outputs": [
    {
     "name": "stdout",
     "output_type": "stream",
     "text": [
      "[[ 9.99815791e-01  3.27710237e-03 -1.89114806e-02  3.28539000e-02]\n",
      " [-3.27468453e-03  9.99994626e-01  1.58816114e-04 -7.43439048e-03]\n",
      " [ 1.89118994e-02 -9.68577253e-05  9.99821149e-01  4.56040796e-02]\n",
      " [ 0.00000000e+00  0.00000000e+00  0.00000000e+00  1.00000000e+00]]\n"
     ]
    },
    {
     "data": {
      "text/plain": [
       "geometry::PointCloud with 428651 points."
      ]
     },
     "execution_count": 39,
     "metadata": {},
     "output_type": "execute_result"
    }
   ],
   "source": [
    "corr = np.zeros((len(source_ids), 2))\n",
    "corr[:, 0] = source_ids\n",
    "corr[:, 1] = target_ids\n",
    "\n",
    "p2p = o3d.registration.TransformationEstimationPointToPoint()\n",
    "trans_init = p2p.compute_transformation(\n",
    "    source, target, o3d.utility.Vector2iVector(corr)\n",
    ")\n",
    "print(trans_init)\n",
    "draw_registration_result(source, target, trans_init)"
   ]
  },
  {
   "cell_type": "code",
   "execution_count": 40,
   "metadata": {},
   "outputs": [
    {
     "name": "stdout",
     "output_type": "stream",
     "text": [
      "Transformation Matrix: \n",
      "[[ 9.99970996e-01  2.28276007e-03 -7.26605749e-03  1.21522882e-02]\n",
      " [-2.27848260e-03  9.99997226e-01  5.96915763e-04 -7.73266808e-03]\n",
      " [ 7.26739995e-03 -5.80342865e-04  9.99973424e-01  4.09489393e-02]\n",
      " [ 0.00000000e+00  0.00000000e+00  0.00000000e+00  1.00000000e+00]]\n",
      "\n",
      "[ 1.21522882e-02 -7.73266808e-03  4.09489393e-02  9.99992706e-01\n",
      " -2.94316804e-04 -3.63339087e-03 -1.14031899e-03]\n"
     ]
    }
   ],
   "source": [
    "reg_p2p = o3d.registration.registration_icp(\n",
    "    source,\n",
    "    target,\n",
    "    0.005,\n",
    "    trans_init,\n",
    "    o3d.registration.TransformationEstimationPointToPoint(),\n",
    ")\n",
    "\n",
    "transform = reg_p2p.transformation\n",
    "print(\"Transformation Matrix: \\n{}\\n\".format(transform))\n",
    "\n",
    "draw_registration_result(source, target, transform)\n",
    "\n",
    "pose = matrix2pose(transform)\n",
    "print(pose)"
   ]
  },
  {
   "cell_type": "code",
   "execution_count": null,
   "metadata": {},
   "outputs": [],
   "source": [
    "pose = [ 0.8227459,  -0.86084309,  2.04105511,  0.60288354, -0.0439842 ,  0.79606347,\n",
    "  0.02966113]\n",
    "matrix = pose2matrix(pose)\n",
    "print(matrix)\n",
    "\n",
    "draw_registration_result(source, target, matrix)"
   ]
  },
  {
   "cell_type": "code",
   "execution_count": null,
   "metadata": {},
   "outputs": [],
   "source": []
  }
 ],
 "metadata": {
  "kernelspec": {
   "display_name": "Python 3",
   "language": "python",
   "name": "python3"
  },
  "language_info": {
   "codemirror_mode": {
    "name": "ipython",
    "version": 3
   },
   "file_extension": ".py",
   "mimetype": "text/x-python",
   "name": "python",
   "nbconvert_exporter": "python",
   "pygments_lexer": "ipython3",
   "version": "3.6.10"
  }
 },
 "nbformat": 4,
 "nbformat_minor": 4
}
