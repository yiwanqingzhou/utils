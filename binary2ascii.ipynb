{
 "cells": [
  {
   "cell_type": "code",
   "execution_count": 1,
   "metadata": {},
   "outputs": [],
   "source": [
    "import open3d as o3d"
   ]
  },
  {
   "cell_type": "code",
   "execution_count": 2,
   "metadata": {
    "scrolled": true
   },
   "outputs": [
    {
     "name": "stdout",
     "output_type": "stream",
     "text": [
      "Help on built-in function write_point_cloud in module open3d.open3d.io:\n",
      "\n",
      "write_point_cloud(...) method of builtins.PyCapsule instance\n",
      "    write_point_cloud(filename, pointcloud, write_ascii=False, compressed=False, print_progress=False)\n",
      "    \n",
      "    Function to write PointCloud to file\n",
      "    \n",
      "    Args:\n",
      "        filename (str): Path to file.\n",
      "        pointcloud (open3d.geometry.PointCloud): The ``PointCloud`` object for I/O\n",
      "        write_ascii (bool, optional, default=False): Set to ``True`` to output in ascii format, otherwise binary format will be used.\n",
      "        compressed (bool, optional, default=False): Set to ``True`` to write in compressed format.\n",
      "        print_progress (bool, optional, default=False): If set to true a progress bar is visualized in the console\n",
      "    \n",
      "    Returns:\n",
      "        bool\n",
      "\n"
     ]
    }
   ],
   "source": [
    "help(o3d.io.write_point_cloud)"
   ]
  },
  {
   "cell_type": "code",
   "execution_count": 3,
   "metadata": {},
   "outputs": [
    {
     "name": "stdout",
     "output_type": "stream",
     "text": [
      "Help on built-in function read_point_cloud in module open3d.open3d.io:\n",
      "\n",
      "read_point_cloud(...) method of builtins.PyCapsule instance\n",
      "    read_point_cloud(filename, format='auto', remove_nan_points=True, remove_infinite_points=True, print_progress=False)\n",
      "    \n",
      "    Function to read PointCloud from file\n",
      "    \n",
      "    Args:\n",
      "        filename (str): Path to file.\n",
      "        format (str, optional, default='auto'): The format of the input file. When not specified or set as ``auto``, the format is inferred from file extension name.\n",
      "        remove_nan_points (bool, optional, default=True): If true, all points that include a NaN are removed from the PointCloud.\n",
      "        remove_infinite_points (bool, optional, default=True): If true, all points that include an infinite value are removed from the PointCloud.\n",
      "        print_progress (bool, optional, default=False): If set to true a progress bar is visualized in the console\n",
      "    \n",
      "    Returns:\n",
      "        open3d.geometry.PointCloud\n",
      "\n"
     ]
    }
   ],
   "source": [
    "help(o3d.io.read_point_cloud)"
   ]
  },
  {
   "cell_type": "code",
   "execution_count": 2,
   "metadata": {},
   "outputs": [
    {
     "name": "stdout",
     "output_type": "stream",
     "text": [
      "whole:  geometry::PointCloud with 2073600 points.\n",
      "geometry::PointCloud with 995287 points.\n",
      "geometry::PointCloud with 410695 points.\n",
      "geometry::PointCloud with 1000915 points.\n"
     ]
    }
   ],
   "source": [
    "path = \"/home/bot/dev/projects_data/depth_info_wrong/2023-03-28_190253_929417478_+0800_cycle_13_percipio_tof.pcd\"\n",
    "cloud = o3d.io.read_point_cloud(path, remove_nan_points = False)\n",
    "print('whole: ', cloud)\n",
    "cloud = o3d.io.read_point_cloud(path)\n",
    "print(cloud)\n",
    "\n",
    "\n",
    "path_1 = \"/home/bot/dev/projects_data/depth_info_wrong/2023-03-28_190316_497691784_+0800_cycle_14_percipio_tof.pcd\"\n",
    "cloud_1 = o3d.io.read_point_cloud(path_1)\n",
    "print(cloud_1)\n",
    "\n",
    "\n",
    "path_2 = \"/home/bot/dev/projects_data/depth_info_wrong/2023-03-28_190319_424293218_+0800_cycle_15_percipio_tof.pcd\"\n",
    "cloud_2 = o3d.io.read_point_cloud(path_2)\n",
    "print(cloud_2)\n"
   ]
  },
  {
   "cell_type": "code",
   "execution_count": 3,
   "metadata": {},
   "outputs": [
    {
     "data": {
      "text/plain": [
       "True"
      ]
     },
     "execution_count": 3,
     "metadata": {},
     "output_type": "execute_result"
    }
   ],
   "source": [
    "path = \"/home/bot/dev/projects_data/kandovan/0906_1_fail_estimate/2023-09-06_163315_685356629_+0800_cycle_9_kandovan_depth_camera.pcd\"\n",
    "cloud = o3d.io.read_point_cloud(path, remove_nan_points = False)\n",
    "\n",
    "# output_path = \"./cloud_binary.pcd\"\n",
    "# o3d.io.write_point_cloud(output_path, cloud, write_ascii=False)\n",
    "\n",
    "output_path = \"/home/bot/dev/projects_data/kandovan/0906_1_fail_estimate/2023-09-06_163315_685356629_+0800_cycle_9_kandovan_depth_camera_ascii.pcd\"\n",
    "o3d.io.write_point_cloud(output_path, cloud, write_ascii=True)"
   ]
  },
  {
   "cell_type": "code",
   "execution_count": null,
   "metadata": {},
   "outputs": [],
   "source": []
  }
 ],
 "metadata": {
  "kernelspec": {
   "display_name": "Python 3",
   "language": "python",
   "name": "python3"
  },
  "language_info": {
   "codemirror_mode": {
    "name": "ipython",
    "version": 3
   },
   "file_extension": ".py",
   "mimetype": "text/x-python",
   "name": "python",
   "nbconvert_exporter": "python",
   "pygments_lexer": "ipython3",
   "version": "3.6.10"
  },
  "vscode": {
   "interpreter": {
    "hash": "99ca3af6633b5b9eb3b431c7d2f7ce407d17da5fe2b2a51fe12276a423867170"
   }
  }
 },
 "nbformat": 4,
 "nbformat_minor": 4
}
