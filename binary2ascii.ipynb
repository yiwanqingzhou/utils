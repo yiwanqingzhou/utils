{
 "cells": [
  {
   "cell_type": "code",
   "execution_count": 1,
   "metadata": {},
   "outputs": [],
   "source": [
    "import open3d as o3d"
   ]
  },
  {
   "cell_type": "code",
   "execution_count": 5,
   "metadata": {},
   "outputs": [
    {
     "name": "stdout",
     "output_type": "stream",
     "text": [
      "Help on built-in function write_point_cloud in module open3d.open3d.io:\n",
      "\n",
      "write_point_cloud(...) method of builtins.PyCapsule instance\n",
      "    write_point_cloud(filename, pointcloud, write_ascii=False, compressed=False, print_progress=False)\n",
      "    \n",
      "    Function to write PointCloud to file\n",
      "    \n",
      "    Args:\n",
      "        filename (str): Path to file.\n",
      "        pointcloud (open3d.geometry.PointCloud): The ``PointCloud`` object for I/O\n",
      "        write_ascii (bool, optional, default=False): Set to ``True`` to output in ascii format, otherwise binary format will be used.\n",
      "        compressed (bool, optional, default=False): Set to ``True`` to write in compressed format.\n",
      "        print_progress (bool, optional, default=False): If set to true a progress bar is visualized in the console\n",
      "    \n",
      "    Returns:\n",
      "        bool\n",
      "\n"
     ]
    }
   ],
   "source": [
    "help(o3d.io.write_point_cloud)"
   ]
  },
  {
   "cell_type": "code",
   "execution_count": 3,
   "metadata": {},
   "outputs": [
    {
     "data": {
      "text/plain": [
       "True"
      ]
     },
     "execution_count": 3,
     "metadata": {},
     "output_type": "execute_result"
    }
   ],
   "source": [
    "path = \"./test.pcd\"\n",
    "cloud = o3d.io.read_point_cloud(path)\n",
    "\n",
    "o3d.io.write_point_cloud(path, cloud, write_ascii=True)"
   ]
  },
  {
   "cell_type": "code",
   "execution_count": null,
   "metadata": {},
   "outputs": [],
   "source": []
  }
 ],
 "metadata": {
  "kernelspec": {
   "display_name": "Python 3",
   "language": "python",
   "name": "python3"
  },
  "language_info": {
   "codemirror_mode": {
    "name": "ipython",
    "version": 3
   },
   "file_extension": ".py",
   "mimetype": "text/x-python",
   "name": "python",
   "nbconvert_exporter": "python",
   "pygments_lexer": "ipython3",
   "version": "3.6.10"
  }
 },
 "nbformat": 4,
 "nbformat_minor": 4
}
