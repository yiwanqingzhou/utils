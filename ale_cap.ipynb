{
 "cells": [
  {
   "cell_type": "code",
   "execution_count": 1,
   "metadata": {},
   "outputs": [],
   "source": [
    "import numpy as np\n",
    "import cv2 as cv"
   ]
  },
  {
   "cell_type": "code",
   "execution_count": 85,
   "metadata": {},
   "outputs": [],
   "source": [
    "img_path = \"/home/bot/dev/projects_data/ale/cap/cropped_img.png\";\n",
    "img = cv.imread(img_path, 0)"
   ]
  },
  {
   "cell_type": "code",
   "execution_count": 10,
   "metadata": {},
   "outputs": [],
   "source": [
    "\n",
    "res1 = np.uint8(np.clip((cv.add(1*img, 30)), 0, 255))\n",
    "res2 = np.uint8(np.clip((cv.add(1.5*img, 60)), 0, 255))\n",
    "tmp = np.hstack((img, res1, res2))\n",
    "\n",
    "cv.imshow('images', tmp)\n",
    "cv.waitKey(0)\n",
    "cv.destroyAllWindows()"
   ]
  },
  {
   "cell_type": "code",
   "execution_count": 86,
   "metadata": {},
   "outputs": [
    {
     "name": "stdout",
     "output_type": "stream",
     "text": [
      "2.39\n",
      "3\n"
     ]
    }
   ],
   "source": [
    "res = img.copy()\n",
    "\n",
    "alpha = 0.3\n",
    "beta = 80\n",
    "\n",
    "def updateParams(x):\n",
    "    global alpha, beta, img, res\n",
    "    alpha = cv.getTrackbarPos('Alpha', 'image') * 0.01\n",
    "    beta = cv.getTrackbarPos('Beta', 'image')\n",
    "    res = np.uint8(np.clip((alpha * img + beta), 0, 250))\n",
    "    \n",
    "cv.namedWindow('image')\n",
    "cv.createTrackbar('Alpha', 'image', 0, 300, updateParams)\n",
    "cv.createTrackbar('Beta', 'image', 0, 255, updateParams)\n",
    "cv.setTrackbarPos('Alpha', 'image', 100)\n",
    "cv.setTrackbarPos('Beta', 'image', 0)\n",
    "\n",
    "while True:\n",
    "    cv.imshow('image', res)\n",
    "    if cv.waitKey(1) == ord('q'):\n",
    "        break\n",
    "cv.destroyAllWindows()\n",
    "\n",
    "print(alpha)\n",
    "print(beta)\n"
   ]
  },
  {
   "cell_type": "code",
   "execution_count": 87,
   "metadata": {},
   "outputs": [],
   "source": [
    "tmp = np.hstack((img, res))\n",
    "cv.imshow('images', tmp)\n",
    "cv.waitKey(0)\n",
    "cv.destroyAllWindows()"
   ]
  },
  {
   "cell_type": "code",
   "execution_count": 18,
   "metadata": {},
   "outputs": [
    {
     "name": "stdout",
     "output_type": "stream",
     "text": [
      "(480, 640)\n"
     ]
    }
   ],
   "source": [
    "print(res.shape)"
   ]
  },
  {
   "cell_type": "code",
   "execution_count": 89,
   "metadata": {},
   "outputs": [],
   "source": [
    "blur = cv.GaussianBlur(res,(5,5),0)\n",
    "tmp = np.hstack((img, res, blur))\n",
    "cv.imshow('images', tmp)\n",
    "cv.waitKey(0)\n",
    "cv.destroyAllWindows()"
   ]
  },
  {
   "cell_type": "code",
   "execution_count": 90,
   "metadata": {},
   "outputs": [
    {
     "name": "stdout",
     "output_type": "stream",
     "text": [
      "32\n",
      "255\n"
     ]
    }
   ],
   "source": [
    "low = 50\n",
    "high = 150\n",
    "\n",
    "# edges = cv.Canny(res, low, high)\n",
    "\n",
    "def updateCannyParams(x):\n",
    "    global low, high, res, edges\n",
    "    low = cv.getTrackbarPos('low', 'Canny')\n",
    "    high = cv.getTrackbarPos('high', 'Canny')\n",
    "    edges = cv.Canny(blur, low, high)\n",
    "    \n",
    "cv.namedWindow('Canny')\n",
    "cv.createTrackbar('low', 'Canny', 0, 255, updateCannyParams)\n",
    "cv.createTrackbar('high', 'Canny', 0, 255, updateCannyParams)\n",
    "cv.setTrackbarPos('low', 'Canny', 50)\n",
    "cv.setTrackbarPos('high', 'Canny', 100)\n",
    "\n",
    "while True:\n",
    "    cv.imshow('Canny', edges)\n",
    "    if cv.waitKey(1) == ord('q'):\n",
    "        break\n",
    "cv.destroyAllWindows()\n",
    "\n",
    "print(low)\n",
    "print(high)\n"
   ]
  },
  {
   "cell_type": "code",
   "execution_count": 93,
   "metadata": {},
   "outputs": [
    {
     "name": "stdout",
     "output_type": "stream",
     "text": [
      "8\n",
      "(480, 640)\n"
     ]
    }
   ],
   "source": [
    "\n",
    "contours, hierarchy = cv.findContours(edges, cv.RETR_TREE, cv.CHAIN_APPROX_SIMPLE)\n",
    "print(len(contours))\n",
    "\n",
    "# img_with_contours = np.zeros(img.shape)\n",
    "img_with_contours = np.zeros((img.shape[0], img.shape[1], 3), np.uint8)\n",
    "cv.drawContours(img_with_contours, contours, -1, (255,255,255), 3)\n",
    "\n",
    "# tmp = np.hstack((edges, binary_img, img_with_contours))\n",
    "# cv.imshow('img_with_contours', img_with_contours)\n",
    "# cv.waitKey(0)\n",
    "# cv.destroyAllWindows()\n",
    "\n",
    "img_with_contours = cv.cvtColor(img_with_contours, cv.COLOR_RGB2GRAY)\n",
    "\n",
    "print(img_with_contours.shape)"
   ]
  },
  {
   "cell_type": "code",
   "execution_count": 94,
   "metadata": {},
   "outputs": [
    {
     "name": "stdout",
     "output_type": "stream",
     "text": [
      "-------------------\n",
      "4\n",
      "True\n",
      "--\n",
      "0.00651960743827118\n",
      "-------------------\n",
      "4\n",
      "True\n",
      "--\n",
      "0.00727552985765212\n",
      "-------------------\n",
      "4\n",
      "False\n",
      "-------------------\n",
      "4\n",
      "True\n",
      "--\n",
      "0.05126330732211238\n",
      "-------------------\n",
      "4\n",
      "True\n",
      "--\n",
      "0.029315925477634064\n",
      "-------------------\n",
      "2\n",
      "False\n",
      "-------------------\n",
      "4\n",
      "True\n",
      "--\n",
      "0.0706689478089619\n",
      "-------------------\n",
      "4\n",
      "True\n",
      "--\n",
      "0.04699621263752874\n",
      "\n",
      "6\n"
     ]
    }
   ],
   "source": [
    "index = 0\n",
    "\n",
    "font=cv.FONT_HERSHEY_SIMPLEX\n",
    "\n",
    "def angle_cos(p0, p1, p2):\n",
    "    d1, d2 = (p0-p1).astype('float'), (p2-p1).astype('float')\n",
    "    return abs( np.dot(d1, d2) / np.sqrt( np.dot(d1, d1)*np.dot(d2, d2) ) )\n",
    "\n",
    "\n",
    "squares = []\n",
    "for cnt in contours:\n",
    "    cnt_len = cv.arcLength(cnt, True) #计算轮廓周长\n",
    "    cnt = cv.approxPolyDP(cnt, 0.02*cnt_len, True) #多边形逼近\n",
    "    print('-------------------')\n",
    "    print(len(cnt))\n",
    "    print(cv.isContourConvex(cnt))\n",
    "    \n",
    "    # 条件判断逼近边的数量是否为4，轮廓面积是否大于1000，检测轮廓是否为凸的\n",
    "#     if len(cnt) == 4 and cv.contourArea(cnt) > 100 and cv.isContourConvex(cnt):\n",
    "    if len(cnt) == 4 and cv.isContourConvex(cnt):\n",
    "\n",
    "        M = cv.moments(cnt) #计算轮廓的矩\n",
    "        cx = int(M['m10']/M['m00'])\n",
    "        cy = int(M['m01']/M['m00'])#轮廓重心\n",
    "\n",
    "        cnt = cnt.reshape(-1, 2)\n",
    "        max_cos = np.max([angle_cos( cnt[i], cnt[(i+1) % 4], cnt[(i+2) % 4] ) for i in range(4)])\n",
    "        \n",
    "        print('--')\n",
    "        print(max_cos)\n",
    "        \n",
    "        # 只检测矩形（cos90° = 0）\n",
    "        if max_cos < 0.1:\n",
    "        # 检测四边形（不限定角度范围）\n",
    "#         if True:\n",
    "            index = index + 1\n",
    "#             cv.putText(img_with_contours,(\"#%d\"%index),(cx,cy),font,0.7,(255,0,255),2)\n",
    "            squares.append(cnt)\n",
    "            \n",
    "    cur_contour = [cnt]\n",
    "    imggggg = np.zeros(img.shape)\n",
    "    cv.drawContours(imggggg, cur_contour, -1, (255,255,255), 1)\n",
    "    tmp = np.hstack((edges, imggggg))\n",
    "    cv.imshow('imggggg', tmp)\n",
    "    cv.waitKey(0)\n",
    "\n",
    "\n",
    "print()\n",
    "print(index)\n",
    "\n",
    "tmp = np.hstack((edges, binary_img, img_with_contours))\n",
    "cv.imshow('imgs', tmp)\n",
    "cv.waitKey(0)\n",
    "cv.destroyAllWindows()"
   ]
  },
  {
   "cell_type": "code",
   "execution_count": 60,
   "metadata": {},
   "outputs": [
    {
     "name": "stdout",
     "output_type": "stream",
     "text": [
      "Help on built-in function connectedComponentsWithStats:\n",
      "\n",
      "connectedComponentsWithStats(...)\n",
      "    connectedComponentsWithStats(image[, labels[, stats[, centroids[, connectivity[, ltype]]]]]) -> retval, labels, stats, centroids\n",
      "    .   @overload\n",
      "    .   @param image the 8-bit single-channel image to be labeled\n",
      "    .   @param labels destination labeled image\n",
      "    .   @param stats statistics output for each label, including the background label, see below for\n",
      "    .   available statistics. Statistics are accessed via stats(label, COLUMN) where COLUMN is one of\n",
      "    .   #ConnectedComponentsTypes. The data type is CV_32S.\n",
      "    .   @param centroids centroid output for each label, including the background label. Centroids are\n",
      "    .   accessed via centroids(label, 0) for x and centroids(label, 1) for y. The data type CV_64F.\n",
      "    .   @param connectivity 8 or 4 for 8-way or 4-way connectivity respectively\n",
      "    .   @param ltype output image label type. Currently CV_32S and CV_16U are supported.\n",
      "\n"
     ]
    }
   ],
   "source": [
    "help(cv.connectedComponentsWithStats)"
   ]
  },
  {
   "cell_type": "code",
   "execution_count": 95,
   "metadata": {},
   "outputs": [
    {
     "name": "stdout",
     "output_type": "stream",
     "text": [
      "num: 23\n",
      "stats: [[   245    111    186    227   8006]\n",
      " [     0      0    640    480 275235]\n",
      " [   379    117      1      1      1]\n",
      " [   384    116     25     89    221]\n",
      " [   368    119      2      1      2]\n",
      " [   373    118      2      1      2]\n",
      " [   362    120      2      1      2]\n",
      " [   257    122    145    108  11385]\n",
      " [   250    140     17     91    168]\n",
      " [   374    209     52    101    344]\n",
      " [   364    221      3      1      3]\n",
      " [   369    220      3      1      3]\n",
      " [   274    220    144    108  11461]\n",
      " [   352    223      3      1      3]\n",
      " [   358    222      3      1      3]\n",
      " [   340    225      3      1      3]\n",
      " [   346    224      3      1      3]\n",
      " [   269    226     53     13    184]\n",
      " [   325    227      8      2      8]\n",
      " [   335    226      3      1      3]\n",
      " [   268    245     19     88    158]\n",
      " [   416    310      1      1      1]\n",
      " [   399    313      1      1      1]]\n",
      "centroids: [[337.61766175 223.87596802]\n",
      " [317.39614511 241.28049485]\n",
      " [379.         117.        ]\n",
      " [397.94117647 154.23076923]\n",
      " [368.5        119.        ]\n",
      " [373.5        118.        ]\n",
      " [362.5        120.        ]\n",
      " [328.7828722  174.96091348]\n",
      " [257.33928571 182.18452381]\n",
      " [407.05232558 245.01162791]\n",
      " [365.         221.        ]\n",
      " [370.         220.        ]\n",
      " [345.80403106 273.58991362]\n",
      " [353.         223.        ]\n",
      " [359.         222.        ]\n",
      " [341.         225.        ]\n",
      " [347.         224.        ]\n",
      " [294.39673913 231.89673913]\n",
      " [328.5        227.375     ]\n",
      " [336.         226.        ]\n",
      " [276.17088608 291.56329114]\n",
      " [416.         310.        ]\n",
      " [399.         313.        ]]\n",
      "labels: [[1 1 1 ... 1 1 1]\n",
      " [1 1 1 ... 1 1 1]\n",
      " [1 1 1 ... 1 1 1]\n",
      " ...\n",
      " [1 1 1 ... 1 1 1]\n",
      " [1 1 1 ... 1 1 1]\n",
      " [1 1 1 ... 1 1 1]]\n"
     ]
    }
   ],
   "source": [
    "invert_contours = 255 - img_with_contours\n",
    "num_objects, labels, stats, centroids = cv.connectedComponentsWithStats(invert_contours, connectivity=8)\n",
    "print('num:',num_objects)\n",
    "print('stats:',stats)\n",
    "print('centroids:',centroids)\n",
    "print('labels:',labels)"
   ]
  },
  {
   "cell_type": "code",
   "execution_count": 96,
   "metadata": {},
   "outputs": [],
   "source": [
    "output = np.zeros((img.shape[0], img.shape[1], 3), np.uint8)\n",
    "for i in range(0, num_objects):\n",
    "    mask = labels == i\n",
    "    output[:,:,0][mask] = np.random.randint(0,255)\n",
    "    output[:,:,1][mask] = np.random.randint(0,255)\n",
    "    output[:,:,2][mask] = np.random.randint(0,255)\n",
    "\n",
    "cv.imshow('img', img)\n",
    "cv.imshow('invert_contours', invert_contours)\n",
    "cv.imshow('output', output)\n",
    "cv.waitKey(0)\n",
    "cv.destroyAllWindows()"
   ]
  },
  {
   "cell_type": "code",
   "execution_count": null,
   "metadata": {},
   "outputs": [],
   "source": []
  }
 ],
 "metadata": {
  "kernelspec": {
   "display_name": "Python 3",
   "language": "python",
   "name": "python3"
  },
  "language_info": {
   "codemirror_mode": {
    "name": "ipython",
    "version": 3
   },
   "file_extension": ".py",
   "mimetype": "text/x-python",
   "name": "python",
   "nbconvert_exporter": "python",
   "pygments_lexer": "ipython3",
   "version": "3.6.10"
  }
 },
 "nbformat": 4,
 "nbformat_minor": 4
}
