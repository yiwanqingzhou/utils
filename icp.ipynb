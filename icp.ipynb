{
 "cells": [
  {
   "cell_type": "code",
   "execution_count": 1,
   "metadata": {},
   "outputs": [],
   "source": [
    "import open3d as o3d\n",
    "import numpy as np\n",
    "import math\n",
    "import copy"
   ]
  },
  {
   "cell_type": "code",
   "execution_count": 2,
   "metadata": {},
   "outputs": [],
   "source": [
    "def load_point_cloud(path):\n",
    "    \"\"\"\n",
    "    Description\n",
    "    -----------\n",
    "        read point cloud\n",
    "\n",
    "    Parameters\n",
    "    ----------\n",
    "        path: str\n",
    "\n",
    "    Returns\n",
    "    -------\n",
    "        o3d.geometry.PointCloud\n",
    "    \"\"\"\n",
    "    cloud = o3d.io.read_point_cloud(path)\n",
    "    return cloud\n"
   ]
  },
  {
   "cell_type": "code",
   "execution_count": 3,
   "metadata": {},
   "outputs": [],
   "source": [
    "from pyquaternion import Quaternion\n",
    "\n",
    "\n",
    "def matrix2rotation(matrix):\n",
    "    return matrix[:3, :3]\n",
    "\n",
    "\n",
    "def matrix2qua(matrix):\n",
    "    qua = Quaternion(matrix=matrix2rotation(matrix))\n",
    "    return qua\n",
    "\n",
    "\n",
    "def matrix2trans(matrix):\n",
    "    return np.array(matrix[:3, 3:].transpose())[0]\n",
    "\n",
    "\n",
    "def matrix2pose(matrix):\n",
    "    qua = matrix2qua(matrix)\n",
    "    translation = matrix2trans(matrix)\n",
    "    return np.hstack((translation, qua.elements))\n",
    "\n",
    "\n",
    "def quatrans2matrix(qua, trans):\n",
    "    rotaion_matrix = qua.rotation_matrix\n",
    "    trans_matrix = np.array([trans]).transpose()\n",
    "    tf_m = np.hstack((rotaion_matrix, trans_matrix))\n",
    "    m = np.mat([[0, 0, 0, 1]])\n",
    "    tf_m = np.vstack((tf_m, m))\n",
    "\n",
    "    return tf_m\n",
    "\n",
    "\n",
    "def pose2matrix(pose):\n",
    "    w, x, y, z = pose[3:]\n",
    "    qua = Quaternion(w=w, x=x, y=y, z=z)\n",
    "    trans = pose[:3]\n",
    "    return quatrans2matrix(qua, trans)\n",
    "\n",
    "\n",
    "def translation2matrix(trans):\n",
    "    qua = Quaternion(w=1, x=0, y=0, z=0)\n",
    "    return quatrans2matrix(qua, trans)\n",
    "\n",
    "\n",
    "def qua2matrix(qua):\n",
    "    trans = [0, 0, 0]\n",
    "    return quatrans2matrix(qua, trans)"
   ]
  },
  {
   "cell_type": "code",
   "execution_count": 4,
   "metadata": {},
   "outputs": [],
   "source": [
    "def get_picked_indices(pcd):\n",
    "    vis = o3d.visualization.VisualizerWithEditing()\n",
    "    vis.create_window(window_name=\"Resgistration: Pick Corresponding Points\")\n",
    "    vis.add_geometry(pcd)\n",
    "    vis.run()\n",
    "    vis.destroy_window()\n",
    "    return vis.get_picked_points()\n",
    "\n",
    "\n",
    "def draw_registration_result(source, target, transformation):\n",
    "    source_temp = copy.deepcopy(source)\n",
    "    source_temp.transform(transformation)\n",
    "    o3d.visualization.draw_geometries(\n",
    "        [source_temp, target], window_name=\"Registration Visualization\"\n",
    "    )\n",
    "    return source_temp + target\n",
    "\n",
    "\n",
    "# def icp(source, target, icp_threshold):\n",
    "#     print('Please press Shift and click the feature points in the same order, press Q to finish')\n",
    "#     picked_id_source = get_picked_indices(source)\n",
    "#     print('picked_id_source: ', picked_id_source)\n",
    "#     return picked_id\n",
    "        \n",
    "#     while True:\n",
    "        \n",
    "#         print('Please press Shift and click the feature points in the same order, press Q to finish')\n",
    "#         picked_id_source = get_picked_indices(source)\n",
    "#         print('picked_id_source: ', picked_id_source)\n",
    "        \n",
    "#         print('Please press Shift and click the feature points, press Q to finish')\n",
    "#         picked_id_target = get_picked_indices(target)\n",
    "#         print('picked_id_target: ', picked_id_target)\n",
    "\n",
    "#         if len(picked_id_source) != len(picked_id_target):\n",
    "#             print(\"The number of corresponding points are not the same, please re-pick\")\n",
    "#         else:\n",
    "#             break\n",
    "\n",
    "#     corr = np.zeros((len(picked_id_source), 2))\n",
    "#     corr[:, 0] = picked_id_source\n",
    "#     corr[:, 1] = picked_id_target\n",
    "\n",
    "#     p2p = o3d.registration.TransformationEstimationPointToPoint()\n",
    "#     trans_init = p2p.compute_transformation(\n",
    "#         source, target, o3d.utility.Vector2iVector(corr)\n",
    "#     )\n",
    "\n",
    "#     reg_p2p = o3d.registration.registration_icp(\n",
    "#         source,\n",
    "#         target,\n",
    "#         icp_threshold,\n",
    "#         trans_init,\n",
    "#         o3d.registration.TransformationEstimationPointToPoint(),\n",
    "#     )\n",
    "\n",
    "#     transform = reg_p2p.transformation\n",
    "#     print(\"Transformation Matrix: \\n{}\\n\".format(transform))\n",
    "\n",
    "#     final_cloud = draw_registration_result(\n",
    "#         source, target, transform)\n",
    "    \n",
    "#     return transform"
   ]
  },
  {
   "cell_type": "code",
   "execution_count": 5,
   "metadata": {},
   "outputs": [],
   "source": [
    "def load_mesh_model(path):\n",
    "    \"\"\"\n",
    "    Description\n",
    "    -----------\n",
    "        read mesh model\n",
    "\n",
    "    Parameters\n",
    "    ----------\n",
    "        path: str\n",
    "\n",
    "    Returns\n",
    "    -------\n",
    "        o3d.geometry.TriangleMesh\n",
    "    \"\"\"\n",
    "    mesh = o3d.io.read_triangle_mesh(path)\n",
    "    return mesh\n",
    "\n",
    "def sample_mesh_to_cloud(mesh, sample_number=100000):\n",
    "    \"\"\"\n",
    "    Description\n",
    "    -----------\n",
    "        process the cabinet mesh model, sample it as point cloud\n",
    "\n",
    "    Parameters\n",
    "    ----------\n",
    "        mesh: o3d.geometry.TriangleMesh\n",
    "        sample_number: int\n",
    "\n",
    "    Returns\n",
    "    -------\n",
    "        o3d.geometry.PointCloud\n",
    "    \"\"\"\n",
    "    mesh.compute_vertex_normals()\n",
    "    pcd = mesh.sample_points_uniformly(number_of_points=sample_number)\n",
    "    pcd.paint_uniform_color([1, 0.706, 0])  # yellow\n",
    "    return pcd"
   ]
  },
  {
   "cell_type": "code",
   "execution_count": 6,
   "metadata": {},
   "outputs": [
    {
     "ename": "RuntimeError",
     "evalue": "\u001b[1;31m[Open3D ERROR] GLFW Error: GLX: Forward compatibility requested but GLX_ARB_create_context_profile is unavailable\u001b[0;m",
     "output_type": "error",
     "traceback": [
      "\u001b[0;31m---------------------------------------------------------------------------\u001b[0m",
      "\u001b[0;31mRuntimeError\u001b[0m                              Traceback (most recent call last)",
      "\u001b[0;32m<ipython-input-6-2f69eb14a5f7>\u001b[0m in \u001b[0;36m<module>\u001b[0;34m\u001b[0m\n\u001b[1;32m      2\u001b[0m \u001b[0mmesh\u001b[0m \u001b[0;34m=\u001b[0m \u001b[0mload_mesh_model\u001b[0m\u001b[0;34m(\u001b[0m\u001b[0mpath\u001b[0m\u001b[0;34m)\u001b[0m\u001b[0;34m\u001b[0m\u001b[0;34m\u001b[0m\u001b[0m\n\u001b[1;32m      3\u001b[0m \u001b[0mtarget\u001b[0m \u001b[0;34m=\u001b[0m \u001b[0msample_mesh_to_cloud\u001b[0m\u001b[0;34m(\u001b[0m\u001b[0mmesh\u001b[0m\u001b[0;34m,\u001b[0m \u001b[0;36m500000\u001b[0m\u001b[0;34m)\u001b[0m\u001b[0;34m\u001b[0m\u001b[0;34m\u001b[0m\u001b[0m\n\u001b[0;32m----> 4\u001b[0;31m \u001b[0mo3d\u001b[0m\u001b[0;34m.\u001b[0m\u001b[0mvisualization\u001b[0m\u001b[0;34m.\u001b[0m\u001b[0mdraw_geometries\u001b[0m\u001b[0;34m(\u001b[0m\u001b[0;34m[\u001b[0m\u001b[0mtarget\u001b[0m\u001b[0;34m]\u001b[0m\u001b[0;34m)\u001b[0m\u001b[0;34m\u001b[0m\u001b[0;34m\u001b[0m\u001b[0m\n\u001b[0m",
      "\u001b[0;31mRuntimeError\u001b[0m: \u001b[1;31m[Open3D ERROR] GLFW Error: GLX: Forward compatibility requested but GLX_ARB_create_context_profile is unavailable\u001b[0;m"
     ]
    }
   ],
   "source": [
    "path = \"/home/bot/dev/dr_vision_lib/onsite_data/gobekli/1102/boxes_1102.stl\"\n",
    "mesh = load_mesh_model(path)\n",
    "target = sample_mesh_to_cloud(mesh, 500000)\n",
    "o3d.visualization.draw_geometries([target])"
   ]
  },
  {
   "cell_type": "code",
   "execution_count": 14,
   "metadata": {},
   "outputs": [],
   "source": [
    "target = load_point_cloud(\"/home/bot/dev/loading_projects/onsite_data/1203-2/left.pcd\")\n",
    "source = load_point_cloud(\"/home/bot/dev/loading_projects/onsite_data/1203-2/right.pcd\")"
   ]
  },
  {
   "cell_type": "code",
   "execution_count": 7,
   "metadata": {
    "scrolled": true
   },
   "outputs": [
    {
     "name": "stdout",
     "output_type": "stream",
     "text": [
      "11\n",
      "[37399, 40772, 40836, 30490, 66834, 58007, 66719, 94475, 93487, 93021, 71956]\n"
     ]
    }
   ],
   "source": [
    "target_ids = get_picked_indices(target)\n",
    "print(len(target_ids))\n",
    "print(target_ids)"
   ]
  },
  {
   "cell_type": "code",
   "execution_count": 8,
   "metadata": {},
   "outputs": [
    {
     "name": "stdout",
     "output_type": "stream",
     "text": [
      "11\n",
      "[114519, 114032, 111318, 116377, 146232, 144051, 140672, 167729, 165325, 160901, 135582]\n"
     ]
    }
   ],
   "source": [
    "source_ids = get_picked_indices(source)\n",
    "print(len(source_ids))\n",
    "print(source_ids)"
   ]
  },
  {
   "cell_type": "code",
   "execution_count": 15,
   "metadata": {},
   "outputs": [
    {
     "name": "stdout",
     "output_type": "stream",
     "text": [
      "[[ 0.99883     0.04762557  0.00839211 -0.0754092 ]\n",
      " [-0.048322    0.97610091  0.21187733 -1.68516968]\n",
      " [ 0.00189923 -0.21203496  0.97726024  0.16794097]\n",
      " [ 0.          0.          0.          1.        ]]\n"
     ]
    }
   ],
   "source": [
    "corr = np.zeros((len(source_ids), 2))\n",
    "corr[:, 0] = source_ids\n",
    "corr[:, 1] = target_ids\n",
    "\n",
    "p2p = o3d.registration.TransformationEstimationPointToPoint()\n",
    "trans_init = p2p.compute_transformation(\n",
    "    source, target, o3d.utility.Vector2iVector(corr)\n",
    ")\n",
    "print(trans_init)"
   ]
  },
  {
   "cell_type": "code",
   "execution_count": 16,
   "metadata": {},
   "outputs": [
    {
     "data": {
      "text/plain": [
       "geometry::PointCloud with 387993 points."
      ]
     },
     "execution_count": 16,
     "metadata": {},
     "output_type": "execute_result"
    }
   ],
   "source": [
    "draw_registration_result(source, target, trans_init)"
   ]
  },
  {
   "cell_type": "code",
   "execution_count": 11,
   "metadata": {},
   "outputs": [],
   "source": [
    "center_point = np.array([0,0,0])\n",
    "min_bound = center_point - np.asarray([2, 2, 0])\n",
    "max_bound = center_point + np.asarray([2, 2, 3.5])\n",
    "\n",
    "cropbox = o3d.geometry.AxisAlignedBoundingBox(min_bound=min_bound, max_bound=max_bound)\n",
    "\n",
    "source = source.crop(cropbox)\n",
    "target = target.crop(cropbox)"
   ]
  },
  {
   "cell_type": "code",
   "execution_count": 17,
   "metadata": {},
   "outputs": [
    {
     "name": "stdout",
     "output_type": "stream",
     "text": [
      "Transformation Matrix: \n",
      "[[ 9.98762687e-01  4.86852201e-02  1.01412232e-02 -8.30237946e-02]\n",
      " [-4.97294316e-02  9.76609307e-01  2.09191885e-01 -1.67619676e+00]\n",
      " [ 2.80540001e-04 -2.09437366e-01  9.77822024e-01  1.62564535e-01]\n",
      " [ 0.00000000e+00  0.00000000e+00  0.00000000e+00  1.00000000e+00]]\n",
      "\n"
     ]
    }
   ],
   "source": [
    "reg_p2p = o3d.registration.registration_icp(\n",
    "    source,\n",
    "    target,\n",
    "    0.005,\n",
    "    trans_init,\n",
    "    o3d.registration.TransformationEstimationPointToPoint(),\n",
    ")\n",
    "\n",
    "transform = reg_p2p.transformation\n",
    "print(\"Transformation Matrix: \\n{}\\n\".format(transform))"
   ]
  },
  {
   "cell_type": "code",
   "execution_count": 18,
   "metadata": {},
   "outputs": [],
   "source": [
    "final_cloud = draw_registration_result(source, target, transform)"
   ]
  },
  {
   "cell_type": "code",
   "execution_count": 19,
   "metadata": {},
   "outputs": [
    {
     "name": "stdout",
     "output_type": "stream",
     "text": [
      "[-0.08302379 -1.67619676  0.16256453  0.99413204 -0.10527506  0.00247972\n",
      " -0.02474889]\n"
     ]
    }
   ],
   "source": [
    "pose = matrix2pose(transform)\n",
    "print(pose)"
   ]
  },
  {
   "cell_type": "code",
   "execution_count": null,
   "metadata": {},
   "outputs": [],
   "source": []
  }
 ],
 "metadata": {
  "kernelspec": {
   "display_name": "Python 3",
   "language": "python",
   "name": "python3"
  },
  "language_info": {
   "codemirror_mode": {
    "name": "ipython",
    "version": 3
   },
   "file_extension": ".py",
   "mimetype": "text/x-python",
   "name": "python",
   "nbconvert_exporter": "python",
   "pygments_lexer": "ipython3",
   "version": "3.6.10"
  },
  "vscode": {
   "interpreter": {
    "hash": "84e04c4df81302457b834bddff417c10c4169c32f98dd4b4107ae96816994649"
   }
  }
 },
 "nbformat": 4,
 "nbformat_minor": 4
}
