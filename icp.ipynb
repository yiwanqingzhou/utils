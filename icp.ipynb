{
 "cells": [
  {
   "cell_type": "code",
   "execution_count": 1,
   "metadata": {},
   "outputs": [],
   "source": [
    "import open3d as o3d\n",
    "import numpy as np\n",
    "import math\n",
    "import copy"
   ]
  },
  {
   "cell_type": "code",
   "execution_count": 2,
   "metadata": {},
   "outputs": [],
   "source": [
    "def load_point_cloud(path):\n",
    "    \"\"\"\n",
    "    Description\n",
    "    -----------\n",
    "        read point cloud\n",
    "\n",
    "    Parameters\n",
    "    ----------\n",
    "        path: str\n",
    "\n",
    "    Returns\n",
    "    -------\n",
    "        o3d.geometry.PointCloud\n",
    "    \"\"\"\n",
    "    cloud = o3d.io.read_point_cloud(path)\n",
    "    return cloud\n"
   ]
  },
  {
   "cell_type": "code",
   "execution_count": 3,
   "metadata": {},
   "outputs": [],
   "source": [
    "from pyquaternion import Quaternion\n",
    "\n",
    "\n",
    "def matrix2rotation(matrix):\n",
    "    return matrix[:3, :3]\n",
    "\n",
    "\n",
    "def matrix2qua(matrix):\n",
    "    qua = Quaternion(matrix=matrix2rotation(matrix))\n",
    "    return qua\n",
    "\n",
    "\n",
    "def matrix2trans(matrix):\n",
    "    return np.array(matrix[:3, 3:].transpose())[0]\n",
    "\n",
    "\n",
    "def matrix2pose(matrix):\n",
    "    qua = matrix2qua(matrix)\n",
    "    translation = matrix2trans(matrix)\n",
    "    return np.hstack((translation, qua.elements))\n",
    "\n",
    "\n",
    "def quatrans2matrix(qua, trans):\n",
    "    rotaion_matrix = qua.rotation_matrix\n",
    "    trans_matrix = np.array([trans]).transpose()\n",
    "    tf_m = np.hstack((rotaion_matrix, trans_matrix))\n",
    "    m = np.mat([[0, 0, 0, 1]])\n",
    "    tf_m = np.vstack((tf_m, m))\n",
    "\n",
    "    return tf_m\n",
    "\n",
    "\n",
    "def pose2matrix(pose):\n",
    "    w, x, y, z = pose[3:]\n",
    "    qua = Quaternion(w=w, x=x, y=y, z=z)\n",
    "    trans = pose[:3]\n",
    "    return quatrans2matrix(qua, trans)\n",
    "\n",
    "\n",
    "def translation2matrix(trans):\n",
    "    qua = Quaternion(w=1, x=0, y=0, z=0)\n",
    "    return quatrans2matrix(qua, trans)\n",
    "\n",
    "\n",
    "def qua2matrix(qua):\n",
    "    trans = [0, 0, 0]\n",
    "    return quatrans2matrix(qua, trans)"
   ]
  },
  {
   "cell_type": "code",
   "execution_count": 4,
   "metadata": {},
   "outputs": [],
   "source": [
    "def get_picked_indices(pcd):\n",
    "    vis = o3d.visualization.VisualizerWithEditing()\n",
    "    vis.create_window(window_name=\"Resgistration: Pick Corresponding Points\")\n",
    "    vis.add_geometry(pcd)\n",
    "    vis.run()\n",
    "    vis.destroy_window()\n",
    "    return vis.get_picked_points()\n",
    "\n",
    "\n",
    "def draw_registration_result(source, target, transformation):\n",
    "    source_temp = copy.deepcopy(source)\n",
    "    source_temp.transform(transformation)\n",
    "    o3d.visualization.draw_geometries(\n",
    "        [source_temp, target], window_name=\"Registration Visualization\"\n",
    "    )\n",
    "    return source_temp + target\n",
    "\n",
    "\n",
    "# def icp(source, target, icp_threshold):\n",
    "#     print('Please press Shift and click the feature points in the same order, press Q to finish')\n",
    "#     picked_id_source = get_picked_indices(source)\n",
    "#     print('picked_id_source: ', picked_id_source)\n",
    "#     return picked_id\n",
    "        \n",
    "#     while True:\n",
    "        \n",
    "#         print('Please press Shift and click the feature points in the same order, press Q to finish')\n",
    "#         picked_id_source = get_picked_indices(source)\n",
    "#         print('picked_id_source: ', picked_id_source)\n",
    "        \n",
    "#         print('Please press Shift and click the feature points, press Q to finish')\n",
    "#         picked_id_target = get_picked_indices(target)\n",
    "#         print('picked_id_target: ', picked_id_target)\n",
    "\n",
    "#         if len(picked_id_source) != len(picked_id_target):\n",
    "#             print(\"The number of corresponding points are not the same, please re-pick\")\n",
    "#         else:\n",
    "#             break\n",
    "\n",
    "#     corr = np.zeros((len(picked_id_source), 2))\n",
    "#     corr[:, 0] = picked_id_source\n",
    "#     corr[:, 1] = picked_id_target\n",
    "\n",
    "#     p2p = o3d.registration.TransformationEstimationPointToPoint()\n",
    "#     trans_init = p2p.compute_transformation(\n",
    "#         source, target, o3d.utility.Vector2iVector(corr)\n",
    "#     )\n",
    "\n",
    "#     reg_p2p = o3d.registration.registration_icp(\n",
    "#         source,\n",
    "#         target,\n",
    "#         icp_threshold,\n",
    "#         trans_init,\n",
    "#         o3d.registration.TransformationEstimationPointToPoint(),\n",
    "#     )\n",
    "\n",
    "#     transform = reg_p2p.transformation\n",
    "#     print(\"Transformation Matrix: \\n{}\\n\".format(transform))\n",
    "\n",
    "#     final_cloud = draw_registration_result(\n",
    "#         source, target, transform)\n",
    "    \n",
    "#     return transform"
   ]
  },
  {
   "cell_type": "code",
   "execution_count": 5,
   "metadata": {},
   "outputs": [],
   "source": [
    "def load_mesh_model(path):\n",
    "    \"\"\"\n",
    "    Description\n",
    "    -----------\n",
    "        read mesh model\n",
    "\n",
    "    Parameters\n",
    "    ----------\n",
    "        path: str\n",
    "\n",
    "    Returns\n",
    "    -------\n",
    "        o3d.geometry.TriangleMesh\n",
    "    \"\"\"\n",
    "    mesh = o3d.io.read_triangle_mesh(path)\n",
    "    return mesh\n",
    "\n",
    "def sample_mesh_to_cloud(mesh, sample_number=100000):\n",
    "    \"\"\"\n",
    "    Description\n",
    "    -----------\n",
    "        process the cabinet mesh model, sample it as point cloud\n",
    "\n",
    "    Parameters\n",
    "    ----------\n",
    "        mesh: o3d.geometry.TriangleMesh\n",
    "        sample_number: int\n",
    "\n",
    "    Returns\n",
    "    -------\n",
    "        o3d.geometry.PointCloud\n",
    "    \"\"\"\n",
    "    mesh.compute_vertex_normals()\n",
    "    pcd = mesh.sample_points_uniformly(number_of_points=sample_number)\n",
    "    pcd.paint_uniform_color([1, 0.706, 0])  # yellow\n",
    "    return pcd"
   ]
  },
  {
   "cell_type": "code",
   "execution_count": 29,
   "metadata": {},
   "outputs": [],
   "source": [
    "path = \"/home/bot/dev/loading_projects/onsite_data/calibration_frame_2.STL\"\n",
    "mesh = load_mesh_model(path)\n",
    "target = sample_mesh_to_cloud(mesh, 500000)\n",
    "\n",
    "# add sign on front\n",
    "add_sign = True\n",
    "if add_sign:\n",
    "    sign_on_front = o3d.geometry.TriangleMesh.create_box(width=0.01, height=0.01, depth=0.01)\n",
    "    sign_cloud = sample_mesh_to_cloud(sign_on_front, 1000)\n",
    "    sign_cloud.transform(pose2matrix([-0.5, 0, 1.5, 1, 0, 0, 0]).A)\n",
    "    target =  target + sign_cloud\n",
    "\n",
    "\n",
    "target.transform(pose2matrix([2.98, 0.78, 0.07, 1, 0, 0, 0]).A)\n",
    "\n",
    "o3d.visualization.draw_geometries([target])"
   ]
  },
  {
   "cell_type": "code",
   "execution_count": 14,
   "metadata": {},
   "outputs": [],
   "source": [
    "target = load_point_cloud(\"/home/bot/dev/loading_projects/onsite_data/0115_calibration/left.pcd\")\n",
    "source = load_point_cloud(\"/home/bot/dev/loading_projects/onsite_data/0115_calibration/right.pcd\")"
   ]
  },
  {
   "cell_type": "code",
   "execution_count": 7,
   "metadata": {},
   "outputs": [
    {
     "name": "stdout",
     "output_type": "stream",
     "text": [
      "9\n",
      "[51102, 51408, 69115, 73538, 82471, 81839, 75172, 74868, 90771]\n"
     ]
    }
   ],
   "source": [
    "source_ids = get_picked_indices(source)\n",
    "print(len(source_ids))\n",
    "print(source_ids)"
   ]
  },
  {
   "cell_type": "code",
   "execution_count": 8,
   "metadata": {
    "scrolled": true
   },
   "outputs": [
    {
     "name": "stdout",
     "output_type": "stream",
     "text": [
      "9\n",
      "[7564, 9987, 23359, 31453, 38466, 38499, 33860, 33889, 53086]\n"
     ]
    }
   ],
   "source": [
    "target_ids = get_picked_indices(target)\n",
    "print(len(target_ids))\n",
    "print(target_ids)"
   ]
  },
  {
   "cell_type": "code",
   "execution_count": 11,
   "metadata": {},
   "outputs": [
    {
     "name": "stdout",
     "output_type": "stream",
     "text": [
      "[[ 0.99811683  0.06025602 -0.01148917 -0.05445297]\n",
      " [-0.05716085  0.98159289  0.1822307  -1.58863095]\n",
      " [ 0.02225818 -0.1812308   0.98318867  0.12819161]\n",
      " [ 0.          0.          0.          1.        ]]\n"
     ]
    }
   ],
   "source": [
    "corr = np.zeros((len(source_ids), 2))\n",
    "corr[:, 0] = source_ids\n",
    "corr[:, 1] = target_ids\n",
    "\n",
    "p2p = o3d.registration.TransformationEstimationPointToPoint()\n",
    "trans_init = p2p.compute_transformation(\n",
    "    source, target, o3d.utility.Vector2iVector(corr)\n",
    ")\n",
    "print(trans_init)"
   ]
  },
  {
   "cell_type": "code",
   "execution_count": 12,
   "metadata": {},
   "outputs": [
    {
     "data": {
      "text/plain": [
       "geometry::PointCloud with 207169 points."
      ]
     },
     "execution_count": 12,
     "metadata": {},
     "output_type": "execute_result"
    }
   ],
   "source": [
    "draw_registration_result(source, target, trans_init)"
   ]
  },
  {
   "cell_type": "code",
   "execution_count": 13,
   "metadata": {},
   "outputs": [],
   "source": [
    "center_point = np.array([0,0,0])\n",
    "min_bound = center_point - np.asarray([2, 2, 0])\n",
    "max_bound = center_point + np.asarray([2, 2, 3.5])\n",
    "\n",
    "cropbox = o3d.geometry.AxisAlignedBoundingBox(min_bound=min_bound, max_bound=max_bound)\n",
    "\n",
    "source = source.crop(cropbox)\n",
    "target = target.crop(cropbox)"
   ]
  },
  {
   "cell_type": "code",
   "execution_count": 15,
   "metadata": {},
   "outputs": [
    {
     "name": "stdout",
     "output_type": "stream",
     "text": [
      "Transformation Matrix: \n",
      "[[ 0.99812778  0.06067389 -0.0077205  -0.071933  ]\n",
      " [-0.05821224  0.98110818  0.18449411 -1.59399038]\n",
      " [ 0.01876862 -0.18369927  0.98280329  0.13616869]\n",
      " [ 0.          0.          0.          1.        ]]\n",
      "\n"
     ]
    }
   ],
   "source": [
    "reg_p2p = o3d.registration.registration_icp(\n",
    "    source,\n",
    "    target,\n",
    "    0.005,\n",
    "    trans_init,\n",
    "    o3d.registration.TransformationEstimationPointToPoint(),\n",
    ")\n",
    "\n",
    "transform = reg_p2p.transformation\n",
    "print(\"Transformation Matrix: \\n{}\\n\".format(transform))"
   ]
  },
  {
   "cell_type": "code",
   "execution_count": 16,
   "metadata": {},
   "outputs": [],
   "source": [
    "final_cloud = draw_registration_result(source, target, transform)"
   ]
  },
  {
   "cell_type": "code",
   "execution_count": 17,
   "metadata": {},
   "outputs": [
    {
     "name": "stdout",
     "output_type": "stream",
     "text": [
      "[-0.071933   -1.59399038  0.13616869  0.9952436  -0.09248826 -0.00665393\n",
      " -0.02986358]\n"
     ]
    }
   ],
   "source": [
    "pose = matrix2pose(transform)\n",
    "print(pose)"
   ]
  },
  {
   "cell_type": "code",
   "execution_count": null,
   "metadata": {},
   "outputs": [],
   "source": []
  }
 ],
 "metadata": {
  "kernelspec": {
   "display_name": "Python 3",
   "language": "python",
   "name": "python3"
  },
  "language_info": {
   "codemirror_mode": {
    "name": "ipython",
    "version": 3
   },
   "file_extension": ".py",
   "mimetype": "text/x-python",
   "name": "python",
   "nbconvert_exporter": "python",
   "pygments_lexer": "ipython3",
   "version": "3.6.10"
  },
  "vscode": {
   "interpreter": {
    "hash": "84e04c4df81302457b834bddff417c10c4169c32f98dd4b4107ae96816994649"
   }
  }
 },
 "nbformat": 4,
 "nbformat_minor": 4
}
