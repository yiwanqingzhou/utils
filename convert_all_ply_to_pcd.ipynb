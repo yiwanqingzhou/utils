{
 "cells": [
  {
   "cell_type": "code",
   "execution_count": 1,
   "metadata": {},
   "outputs": [],
   "source": [
    "import open3d as o3d"
   ]
  },
  {
   "cell_type": "code",
   "execution_count": 2,
   "metadata": {},
   "outputs": [
    {
     "data": {
      "text/plain": [
       "['.ipynb_checkpoints',\n",
       " 'Dist_8.3M_3_accom.ply',\n",
       " 'Dist_8.3M_3.ply',\n",
       " 'Dist_8.3M.ply',\n",
       " 'Dist_8.3M_2.ply',\n",
       " 'Untitled.ipynb']"
      ]
     },
     "execution_count": 2,
     "metadata": {},
     "output_type": "execute_result"
    }
   ],
   "source": [
    "import os\n",
    "path = \"./\"\n",
    "\n",
    "fileList=os.listdir(path)\n",
    "fileList"
   ]
  },
  {
   "cell_type": "code",
   "execution_count": 8,
   "metadata": {},
   "outputs": [
    {
     "name": "stdout",
     "output_type": "stream",
     "text": [
      "./Dist_8.3M_3_accom.ply ======> ./Dist_8.3M_3_accom.pcd\n",
      "./Dist_8.3M_3.ply ======> ./Dist_8.3M_3.pcd\n",
      "./Dist_8.3M.ply ======> ./Dist_8.3M.pcd\n",
      "./Dist_8.3M_2.ply ======> ./Dist_8.3M_2.pcd\n"
     ]
    }
   ],
   "source": [
    "for file in fileList:\n",
    "    if file[-3:] == \"ply\":\n",
    "        newfile = file[:-3]+\"pcd\"\n",
    "        oldname = path + file\n",
    "        newname = path + newfile\n",
    "        print(oldname,'======>',newname)\n",
    "        \n",
    "        pcd = o3d.io.read_point_cloud(oldname)\n",
    "        o3d.io.write_point_cloud(newname, pcd)"
   ]
  },
  {
   "cell_type": "code",
   "execution_count": null,
   "metadata": {},
   "outputs": [],
   "source": [
    "pcd = o3d.io.read_point_cloud(\"./data/cloud.pcd\")\n",
    "o3d.io.write_point_cloud(\"./data/cloud_out.pcd\", pcd)"
   ]
  }
 ],
 "metadata": {
  "kernelspec": {
   "display_name": "Python 3",
   "language": "python",
   "name": "python3"
  },
  "language_info": {
   "codemirror_mode": {
    "name": "ipython",
    "version": 3
   },
   "file_extension": ".py",
   "mimetype": "text/x-python",
   "name": "python",
   "nbconvert_exporter": "python",
   "pygments_lexer": "ipython3",
   "version": "3.6.10"
  }
 },
 "nbformat": 4,
 "nbformat_minor": 4
}
