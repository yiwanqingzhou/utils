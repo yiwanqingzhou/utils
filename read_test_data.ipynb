{
 "cells": [
  {
   "cell_type": "code",
   "execution_count": null,
   "metadata": {},
   "outputs": [],
   "source": []
  },
  {
   "cell_type": "code",
   "execution_count": 18,
   "metadata": {},
   "outputs": [
    {
     "ename": "FileNotFoundError",
     "evalue": "[Errno 2] No such file or directory: '/home/bot/petra/Petra_data/20220310'",
     "output_type": "error",
     "traceback": [
      "\u001b[0;31m---------------------------------------------------------------------------\u001b[0m",
      "\u001b[0;31mFileNotFoundError\u001b[0m                         Traceback (most recent call last)",
      "\u001b[0;32m<ipython-input-18-7e2c7db4d3c4>\u001b[0m in \u001b[0;36m<module>\u001b[0;34m\u001b[0m\n\u001b[1;32m      2\u001b[0m \u001b[0mpath\u001b[0m \u001b[0;34m=\u001b[0m \u001b[0;34m\"/home/bot/petra/Petra_data/20220310\"\u001b[0m\u001b[0;34m\u001b[0m\u001b[0;34m\u001b[0m\u001b[0m\n\u001b[1;32m      3\u001b[0m \u001b[0;34m\u001b[0m\u001b[0m\n\u001b[0;32m----> 4\u001b[0;31m \u001b[0mfileList\u001b[0m\u001b[0;34m=\u001b[0m\u001b[0mos\u001b[0m\u001b[0;34m.\u001b[0m\u001b[0mlistdir\u001b[0m\u001b[0;34m(\u001b[0m\u001b[0mpath\u001b[0m\u001b[0;34m)\u001b[0m\u001b[0;34m\u001b[0m\u001b[0;34m\u001b[0m\u001b[0m\n\u001b[0m",
      "\u001b[0;31mFileNotFoundError\u001b[0m: [Errno 2] No such file or directory: '/home/bot/petra/Petra_data/20220310'"
     ]
    }
   ],
   "source": [
    "import os\n",
    "path = \"/home/bot/petra/Petra_data/20220310\"\n",
    "\n",
    "fileList=os.listdir(path)\n"
   ]
  },
  {
   "cell_type": "code",
   "execution_count": 19,
   "metadata": {},
   "outputs": [],
   "source": [
    "dict_cycle_files = {}\n",
    "\n",
    "for file in fileList:\n",
    "    index = file[file.find('_') + 1: file.find('.')]\n",
    "    \n",
    "    if index in dict_cycle_files:\n",
    "        dict_cycle_files[index].append(file) \n",
    "    else:\n",
    "        dict_cycle_files[index] = [file]\n",
    "\n"
   ]
  },
  {
   "cell_type": "code",
   "execution_count": 57,
   "metadata": {},
   "outputs": [
    {
     "name": "stdout",
     "output_type": "stream",
     "text": [
      "[{'cloud': 'cloud_0.pcd', 'color': 'color_0.png'}, {'cloud': 'cloud_1.pcd', 'color': 'color_1.png'}, {'color': 'color_2.png', 'cloud': 'cloud_2.pcd'}]\n"
     ]
    }
   ],
   "source": [
    "index_range = range(0,3)\n",
    "data_info = {\"cloud\":{\"prefix\":\"cloud_\", \"postfix\":\".pcd\"}, \n",
    "             \"color\":{\"prefix\":\"color_\", \"postfix\":\".png\"}}\n",
    "\n",
    "\n",
    "datas = []\n",
    "\n",
    "for index in index_range:\n",
    "    \n",
    "    key = str(index)\n",
    "    if not key in dict_cycle_files:\n",
    "        continue\n",
    "        \n",
    "    files = dict_cycle_files[key]\n",
    "    data = {}\n",
    "\n",
    "    for file in files:\n",
    "        prefix = file[file.rfind('/') + 1 : file.find('_') + 1 ]\n",
    "        postfix = file[file.find('.') :]\n",
    "\n",
    "        for key in data_info:\n",
    "            info = data_info[key]\n",
    "            if (prefix == info[\"prefix\"]) and (postfix == info[\"postfix\"]):\n",
    "                data[key] = file\n",
    "\n",
    "\n",
    "    datas.append(data)\n",
    "            \n",
    "print(datas)"
   ]
  },
  {
   "cell_type": "code",
   "execution_count": 40,
   "metadata": {},
   "outputs": [],
   "source": [
    "import json\n",
    "\n",
    "def serialize_sets(obj):\n",
    "    if isinstance(obj, set):\n",
    "        return list(obj)\n",
    "\n",
    "    return obj\n",
    "\n",
    "output_file = \"/home/bot/petra/Petra_data/test_data.json\"\n",
    "with open(output_file, \"w\") as json_file:\n",
    "    json.dump(datas, json_file, indent=2, default=serialize_sets)"
   ]
  },
  {
   "cell_type": "code",
   "execution_count": 17,
   "metadata": {},
   "outputs": [
    {
     "name": "stdout",
     "output_type": "stream",
     "text": [
      "8\n",
      "8\n"
     ]
    }
   ],
   "source": [
    "file_name = \"2022-04-19_193646_167813003_+8000_cycle_8.pcd\"\n",
    "\n",
    "data_info = {\"cloud\":{\"prefix\":\"cycle_\", \"postfix\":\".pcd\"}, \n",
    "             \"color\":{\"prefix\":\"cycle_\", \"postfix\":\".png\"}}\n",
    "\n",
    "for data_type in data_info:\n",
    "    prefix = data_info[data_type][\"prefix\"]\n",
    "    postfix = data_info[data_type][\"postfix\"]\n",
    "    \n",
    "    pos = file_name.find(prefix)\n",
    "    if (pos != -1):\n",
    "        sub_name = file_name[pos + len(prefix):]\n",
    "        \n",
    "        index_pos = sub_name.find(\"_\")\n",
    "        if (index_pos == -1):\n",
    "            index_pos = sub_name.find(\".\")\n",
    "        \n",
    "        index_str= sub_name[:index_pos]\n",
    "        index = int(index_str)\n",
    "        print(index)"
   ]
  },
  {
   "cell_type": "code",
   "execution_count": 19,
   "metadata": {},
   "outputs": [],
   "source": [
    "import os\n",
    "path = \"/home/bot/dev/dr_vision_lib/test_data/model_free_object_pose_estimation/data/pallet_box_objects/no_object_estimated\"\n",
    "\n",
    "fileList=os.listdir(path)"
   ]
  },
  {
   "cell_type": "code",
   "execution_count": 33,
   "metadata": {},
   "outputs": [],
   "source": [
    "filter_strs = [\"mask\"]\n",
    "\n",
    "def filter_func(in_str):\n",
    "    for filter_str in filter_strs:\n",
    "        if in_str.find(filter_str) != -1:\n",
    "            return True\n",
    "\n"
   ]
  },
  {
   "cell_type": "code",
   "execution_count": 37,
   "metadata": {},
   "outputs": [
    {
     "name": "stdout",
     "output_type": "stream",
     "text": [
      "['mask_cycle_2_0.png']\n"
     ]
    }
   ],
   "source": [
    "fileList = list(filter(lambda x: filter_func(x), fileList))\n",
    "# xs = [x for x in fileList if filter_func(x)]\n",
    "\n",
    "print(fileList)"
   ]
  },
  {
   "cell_type": "code",
   "execution_count": 38,
   "metadata": {},
   "outputs": [],
   "source": [
    "dd = {1: {'color': 'cycle_1.png', 'cloud': 'cycle_1.pcd'}, \n",
    "      2: {'color': 'cycle_2.png', 'cloud': 'cycle_2.pcd'}, \n",
    "      0: {'color': 'cycle_0.png', 'cloud': 'cycle_0.pcd'}}\n",
    "\n"
   ]
  }
 ],
 "metadata": {
  "kernelspec": {
   "display_name": "Python 3",
   "language": "python",
   "name": "python3"
  },
  "language_info": {
   "codemirror_mode": {
    "name": "ipython",
    "version": 3
   },
   "file_extension": ".py",
   "mimetype": "text/x-python",
   "name": "python",
   "nbconvert_exporter": "python",
   "pygments_lexer": "ipython3",
   "version": "3.6.10"
  }
 },
 "nbformat": 4,
 "nbformat_minor": 4
}
